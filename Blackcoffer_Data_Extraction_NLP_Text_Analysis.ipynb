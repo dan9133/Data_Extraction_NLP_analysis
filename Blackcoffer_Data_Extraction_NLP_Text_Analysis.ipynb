{
  "cells": [
    {
      "cell_type": "markdown",
      "metadata": {
        "id": "view-in-github",
        "colab_type": "text"
      },
      "source": [
        "<a href=\"https://colab.research.google.com/github/dan9133/Data_Extraction_NLP_analysis/blob/main/Blackcoffer_Data_Extraction_NLP_Text_Analysis.ipynb\" target=\"_parent\"><img src=\"https://colab.research.google.com/assets/colab-badge.svg\" alt=\"Open In Colab\"/></a>"
      ]
    },
    {
      "cell_type": "markdown",
      "metadata": {
        "id": "n4tPX3xrK0Bl"
      },
      "source": [
        "**: For each of the articles, given in the input.xlsx file, extract the article text and save the extracted article in a text file with URL_ID as its file name While extracting text, please make sure your program extracts only the article title and the article text. It should not extract the website header, footer, or anything other than the article text.**"
      ]
    },
    {
      "cell_type": "markdown",
      "metadata": {
        "id": "mdAxL19DMAy9"
      },
      "source": [
        "**Importing_labraries**"
      ]
    },
    {
      "cell_type": "code",
      "execution_count": null,
      "metadata": {
        "colab": {
          "base_uri": "https://localhost:8080/"
        },
        "id": "P8Nd7nV3K07T",
        "outputId": "1a3be384-7fb3-4fd0-8e82-2f5b49fbef2f"
      },
      "outputs": [
        {
          "output_type": "stream",
          "name": "stderr",
          "text": [
            "[nltk_data] Downloading package punkt to /root/nltk_data...\n",
            "[nltk_data]   Package punkt is already up-to-date!\n"
          ]
        },
        {
          "output_type": "execute_result",
          "data": {
            "text/plain": [
              "True"
            ]
          },
          "metadata": {},
          "execution_count": 48
        }
      ],
      "source": [
        "\n",
        "import pandas as pd\n",
        "import numpy as np\n",
        "import seaborn as sns\n",
        "import matplotlib.pyplot as plt\n",
        "import requests\n",
        "from  bs4 import BeautifulSoup\n",
        "from google.colab import files\n",
        "import nltk\n",
        "import string\n",
        "nltk.download('punkt')\n"
      ]
    },
    {
      "cell_type": "markdown",
      "source": [
        "**Access the  google drive mount from my google drive**"
      ],
      "metadata": {
        "id": "N406yoJxw_uv"
      }
    },
    {
      "cell_type": "code",
      "execution_count": null,
      "metadata": {
        "colab": {
          "base_uri": "https://localhost:8080/"
        },
        "id": "CzE60Oa5Nb2U",
        "outputId": "31a3b780-81c5-4a75-f040-530289668c4d"
      },
      "outputs": [
        {
          "output_type": "stream",
          "name": "stdout",
          "text": [
            "Mounted at /content/drive\n"
          ]
        }
      ],
      "source": [
        "from google.colab import drive\n",
        "drive.mount('/content/drive')"
      ]
    },
    {
      "cell_type": "markdown",
      "source": [
        "**find the google drive directory path in my pc**"
      ],
      "metadata": {
        "id": "cqkuMGH2xbDE"
      }
    },
    {
      "cell_type": "code",
      "source": [
        "import os\n",
        "os.chdir(\"/content/drive/\")\n",
        "!ls"
      ],
      "metadata": {
        "colab": {
          "base_uri": "https://localhost:8080/"
        },
        "id": "j6mG5aXkx5ds",
        "outputId": "4a93e0f1-b65c-432d-b086-6e4587d68b04"
      },
      "execution_count": null,
      "outputs": [
        {
          "output_type": "stream",
          "name": "stdout",
          "text": [
            "MyDrive\n"
          ]
        }
      ]
    },
    {
      "cell_type": "code",
      "source": [
        "import os\n",
        "os.chdir(\"/content/drive/My Drive\")\n",
        "!ls"
      ],
      "metadata": {
        "id": "kZ8FUzY-yADB",
        "colab": {
          "base_uri": "https://localhost:8080/"
        },
        "outputId": "716c4916-4f0b-4c45-cab3-6af72feb09ab"
      },
      "execution_count": null,
      "outputs": [
        {
          "output_type": "stream",
          "name": "stdout",
          "text": [
            " 100002610457737.html\n",
            " 1209202213384400_737765.xls\n",
            "'20211030 Test Assignment'\n",
            "'Adhr card.pdf'\n",
            " Blockchain_topic.pdf\n",
            "'Colab Notebooks'\n",
            "'Contact Information.gform'\n",
            "'Copy of Cognitiveclass PY0101EN Certificate _ Cognitive Class.pdf'\n",
            "'Copy of रेलवे के पिछ्ले Exams में पूंछे गये Science से संबंधित Question and Answer Part – 1.pdf'\n",
            " danish.jpg\n",
            "'danish mrk.jpg'\n",
            " Danish.pdf\n",
            " Image.jpg\n",
            " IMG-20190710-WA0004.jpg\n",
            " IMG_20200529_200439.jpg\n",
            " IMG_20210503_144001~2.jpg\n",
            " IMG-20230903-WA0001.jpg\n",
            " latest_resume.docx\n",
            "'Md Danish_DS_Resume.pdf'\n",
            "'my marksheet.pdf'\n",
            "'my pan.pdf'\n",
            "'my pic.pdf'\n",
            " Objective.gdoc\n",
            " Q_1653818129562.jpg\n",
            "'Resume New.2019.doc'\n",
            " Screenshot_20220225-221112.png\n",
            " Screenshot_20220529-144012.png\n",
            " Screenshot_20220615-075333.jpg\n",
            " Updated-Resume.pdf\n",
            "'Warranty Invoice.pdf'\n",
            " WorkAsst.pdf\n"
          ]
        }
      ]
    },
    {
      "cell_type": "markdown",
      "metadata": {
        "id": "Or4CY7lPN_MP"
      },
      "source": [
        "**Importing Input files**"
      ]
    },
    {
      "cell_type": "code",
      "execution_count": null,
      "metadata": {
        "colab": {
          "base_uri": "https://localhost:8080/",
          "height": 424
        },
        "id": "uEbmMHnSN9M-",
        "outputId": "a4eb4be5-fcd9-4f9b-90d9-e6f5a2bdb517"
      },
      "outputs": [
        {
          "output_type": "execute_result",
          "data": {
            "text/plain": [
              "      URL_ID                                                URL\n",
              "0      123.0  https://insights.blackcoffer.com/rise-of-telem...\n",
              "1      321.0  https://insights.blackcoffer.com/rise-of-e-hea...\n",
              "2     2345.0  https://insights.blackcoffer.com/rise-of-e-hea...\n",
              "3     4321.0  https://insights.blackcoffer.com/rise-of-telem...\n",
              "4      432.0  https://insights.blackcoffer.com/rise-of-telem...\n",
              "..       ...                                                ...\n",
              "109  50921.0  https://insights.blackcoffer.com/coronavirus-i...\n",
              "110  51382.8  https://insights.blackcoffer.com/coronavirus-i...\n",
              "111  51844.6  https://insights.blackcoffer.com/what-are-the-...\n",
              "112  52306.4  https://insights.blackcoffer.com/marketing-dri...\n",
              "113  52768.2  https://insights.blackcoffer.com/continued-dem...\n",
              "\n",
              "[114 rows x 2 columns]"
            ],
            "text/html": [
              "\n",
              "  <div id=\"df-26aaf262-afd3-4c6e-89e3-645ea83b7027\" class=\"colab-df-container\">\n",
              "    <div>\n",
              "<style scoped>\n",
              "    .dataframe tbody tr th:only-of-type {\n",
              "        vertical-align: middle;\n",
              "    }\n",
              "\n",
              "    .dataframe tbody tr th {\n",
              "        vertical-align: top;\n",
              "    }\n",
              "\n",
              "    .dataframe thead th {\n",
              "        text-align: right;\n",
              "    }\n",
              "</style>\n",
              "<table border=\"1\" class=\"dataframe\">\n",
              "  <thead>\n",
              "    <tr style=\"text-align: right;\">\n",
              "      <th></th>\n",
              "      <th>URL_ID</th>\n",
              "      <th>URL</th>\n",
              "    </tr>\n",
              "  </thead>\n",
              "  <tbody>\n",
              "    <tr>\n",
              "      <th>0</th>\n",
              "      <td>123.0</td>\n",
              "      <td>https://insights.blackcoffer.com/rise-of-telem...</td>\n",
              "    </tr>\n",
              "    <tr>\n",
              "      <th>1</th>\n",
              "      <td>321.0</td>\n",
              "      <td>https://insights.blackcoffer.com/rise-of-e-hea...</td>\n",
              "    </tr>\n",
              "    <tr>\n",
              "      <th>2</th>\n",
              "      <td>2345.0</td>\n",
              "      <td>https://insights.blackcoffer.com/rise-of-e-hea...</td>\n",
              "    </tr>\n",
              "    <tr>\n",
              "      <th>3</th>\n",
              "      <td>4321.0</td>\n",
              "      <td>https://insights.blackcoffer.com/rise-of-telem...</td>\n",
              "    </tr>\n",
              "    <tr>\n",
              "      <th>4</th>\n",
              "      <td>432.0</td>\n",
              "      <td>https://insights.blackcoffer.com/rise-of-telem...</td>\n",
              "    </tr>\n",
              "    <tr>\n",
              "      <th>...</th>\n",
              "      <td>...</td>\n",
              "      <td>...</td>\n",
              "    </tr>\n",
              "    <tr>\n",
              "      <th>109</th>\n",
              "      <td>50921.0</td>\n",
              "      <td>https://insights.blackcoffer.com/coronavirus-i...</td>\n",
              "    </tr>\n",
              "    <tr>\n",
              "      <th>110</th>\n",
              "      <td>51382.8</td>\n",
              "      <td>https://insights.blackcoffer.com/coronavirus-i...</td>\n",
              "    </tr>\n",
              "    <tr>\n",
              "      <th>111</th>\n",
              "      <td>51844.6</td>\n",
              "      <td>https://insights.blackcoffer.com/what-are-the-...</td>\n",
              "    </tr>\n",
              "    <tr>\n",
              "      <th>112</th>\n",
              "      <td>52306.4</td>\n",
              "      <td>https://insights.blackcoffer.com/marketing-dri...</td>\n",
              "    </tr>\n",
              "    <tr>\n",
              "      <th>113</th>\n",
              "      <td>52768.2</td>\n",
              "      <td>https://insights.blackcoffer.com/continued-dem...</td>\n",
              "    </tr>\n",
              "  </tbody>\n",
              "</table>\n",
              "<p>114 rows × 2 columns</p>\n",
              "</div>\n",
              "    <div class=\"colab-df-buttons\">\n",
              "\n",
              "  <div class=\"colab-df-container\">\n",
              "    <button class=\"colab-df-convert\" onclick=\"convertToInteractive('df-26aaf262-afd3-4c6e-89e3-645ea83b7027')\"\n",
              "            title=\"Convert this dataframe to an interactive table.\"\n",
              "            style=\"display:none;\">\n",
              "\n",
              "  <svg xmlns=\"http://www.w3.org/2000/svg\" height=\"24px\" viewBox=\"0 -960 960 960\">\n",
              "    <path d=\"M120-120v-720h720v720H120Zm60-500h600v-160H180v160Zm220 220h160v-160H400v160Zm0 220h160v-160H400v160ZM180-400h160v-160H180v160Zm440 0h160v-160H620v160ZM180-180h160v-160H180v160Zm440 0h160v-160H620v160Z\"/>\n",
              "  </svg>\n",
              "    </button>\n",
              "\n",
              "  <style>\n",
              "    .colab-df-container {\n",
              "      display:flex;\n",
              "      gap: 12px;\n",
              "    }\n",
              "\n",
              "    .colab-df-convert {\n",
              "      background-color: #E8F0FE;\n",
              "      border: none;\n",
              "      border-radius: 50%;\n",
              "      cursor: pointer;\n",
              "      display: none;\n",
              "      fill: #1967D2;\n",
              "      height: 32px;\n",
              "      padding: 0 0 0 0;\n",
              "      width: 32px;\n",
              "    }\n",
              "\n",
              "    .colab-df-convert:hover {\n",
              "      background-color: #E2EBFA;\n",
              "      box-shadow: 0px 1px 2px rgba(60, 64, 67, 0.3), 0px 1px 3px 1px rgba(60, 64, 67, 0.15);\n",
              "      fill: #174EA6;\n",
              "    }\n",
              "\n",
              "    .colab-df-buttons div {\n",
              "      margin-bottom: 4px;\n",
              "    }\n",
              "\n",
              "    [theme=dark] .colab-df-convert {\n",
              "      background-color: #3B4455;\n",
              "      fill: #D2E3FC;\n",
              "    }\n",
              "\n",
              "    [theme=dark] .colab-df-convert:hover {\n",
              "      background-color: #434B5C;\n",
              "      box-shadow: 0px 1px 3px 1px rgba(0, 0, 0, 0.15);\n",
              "      filter: drop-shadow(0px 1px 2px rgba(0, 0, 0, 0.3));\n",
              "      fill: #FFFFFF;\n",
              "    }\n",
              "  </style>\n",
              "\n",
              "    <script>\n",
              "      const buttonEl =\n",
              "        document.querySelector('#df-26aaf262-afd3-4c6e-89e3-645ea83b7027 button.colab-df-convert');\n",
              "      buttonEl.style.display =\n",
              "        google.colab.kernel.accessAllowed ? 'block' : 'none';\n",
              "\n",
              "      async function convertToInteractive(key) {\n",
              "        const element = document.querySelector('#df-26aaf262-afd3-4c6e-89e3-645ea83b7027');\n",
              "        const dataTable =\n",
              "          await google.colab.kernel.invokeFunction('convertToInteractive',\n",
              "                                                    [key], {});\n",
              "        if (!dataTable) return;\n",
              "\n",
              "        const docLinkHtml = 'Like what you see? Visit the ' +\n",
              "          '<a target=\"_blank\" href=https://colab.research.google.com/notebooks/data_table.ipynb>data table notebook</a>'\n",
              "          + ' to learn more about interactive tables.';\n",
              "        element.innerHTML = '';\n",
              "        dataTable['output_type'] = 'display_data';\n",
              "        await google.colab.output.renderOutput(dataTable, element);\n",
              "        const docLink = document.createElement('div');\n",
              "        docLink.innerHTML = docLinkHtml;\n",
              "        element.appendChild(docLink);\n",
              "      }\n",
              "    </script>\n",
              "  </div>\n",
              "\n",
              "\n",
              "<div id=\"df-72f49c23-f2b3-4261-8cbc-5cd45131a0a2\">\n",
              "  <button class=\"colab-df-quickchart\" onclick=\"quickchart('df-72f49c23-f2b3-4261-8cbc-5cd45131a0a2')\"\n",
              "            title=\"Suggest charts.\"\n",
              "            style=\"display:none;\">\n",
              "\n",
              "<svg xmlns=\"http://www.w3.org/2000/svg\" height=\"24px\"viewBox=\"0 0 24 24\"\n",
              "     width=\"24px\">\n",
              "    <g>\n",
              "        <path d=\"M19 3H5c-1.1 0-2 .9-2 2v14c0 1.1.9 2 2 2h14c1.1 0 2-.9 2-2V5c0-1.1-.9-2-2-2zM9 17H7v-7h2v7zm4 0h-2V7h2v10zm4 0h-2v-4h2v4z\"/>\n",
              "    </g>\n",
              "</svg>\n",
              "  </button>\n",
              "\n",
              "<style>\n",
              "  .colab-df-quickchart {\n",
              "      --bg-color: #E8F0FE;\n",
              "      --fill-color: #1967D2;\n",
              "      --hover-bg-color: #E2EBFA;\n",
              "      --hover-fill-color: #174EA6;\n",
              "      --disabled-fill-color: #AAA;\n",
              "      --disabled-bg-color: #DDD;\n",
              "  }\n",
              "\n",
              "  [theme=dark] .colab-df-quickchart {\n",
              "      --bg-color: #3B4455;\n",
              "      --fill-color: #D2E3FC;\n",
              "      --hover-bg-color: #434B5C;\n",
              "      --hover-fill-color: #FFFFFF;\n",
              "      --disabled-bg-color: #3B4455;\n",
              "      --disabled-fill-color: #666;\n",
              "  }\n",
              "\n",
              "  .colab-df-quickchart {\n",
              "    background-color: var(--bg-color);\n",
              "    border: none;\n",
              "    border-radius: 50%;\n",
              "    cursor: pointer;\n",
              "    display: none;\n",
              "    fill: var(--fill-color);\n",
              "    height: 32px;\n",
              "    padding: 0;\n",
              "    width: 32px;\n",
              "  }\n",
              "\n",
              "  .colab-df-quickchart:hover {\n",
              "    background-color: var(--hover-bg-color);\n",
              "    box-shadow: 0 1px 2px rgba(60, 64, 67, 0.3), 0 1px 3px 1px rgba(60, 64, 67, 0.15);\n",
              "    fill: var(--button-hover-fill-color);\n",
              "  }\n",
              "\n",
              "  .colab-df-quickchart-complete:disabled,\n",
              "  .colab-df-quickchart-complete:disabled:hover {\n",
              "    background-color: var(--disabled-bg-color);\n",
              "    fill: var(--disabled-fill-color);\n",
              "    box-shadow: none;\n",
              "  }\n",
              "\n",
              "  .colab-df-spinner {\n",
              "    border: 2px solid var(--fill-color);\n",
              "    border-color: transparent;\n",
              "    border-bottom-color: var(--fill-color);\n",
              "    animation:\n",
              "      spin 1s steps(1) infinite;\n",
              "  }\n",
              "\n",
              "  @keyframes spin {\n",
              "    0% {\n",
              "      border-color: transparent;\n",
              "      border-bottom-color: var(--fill-color);\n",
              "      border-left-color: var(--fill-color);\n",
              "    }\n",
              "    20% {\n",
              "      border-color: transparent;\n",
              "      border-left-color: var(--fill-color);\n",
              "      border-top-color: var(--fill-color);\n",
              "    }\n",
              "    30% {\n",
              "      border-color: transparent;\n",
              "      border-left-color: var(--fill-color);\n",
              "      border-top-color: var(--fill-color);\n",
              "      border-right-color: var(--fill-color);\n",
              "    }\n",
              "    40% {\n",
              "      border-color: transparent;\n",
              "      border-right-color: var(--fill-color);\n",
              "      border-top-color: var(--fill-color);\n",
              "    }\n",
              "    60% {\n",
              "      border-color: transparent;\n",
              "      border-right-color: var(--fill-color);\n",
              "    }\n",
              "    80% {\n",
              "      border-color: transparent;\n",
              "      border-right-color: var(--fill-color);\n",
              "      border-bottom-color: var(--fill-color);\n",
              "    }\n",
              "    90% {\n",
              "      border-color: transparent;\n",
              "      border-bottom-color: var(--fill-color);\n",
              "    }\n",
              "  }\n",
              "</style>\n",
              "\n",
              "  <script>\n",
              "    async function quickchart(key) {\n",
              "      const quickchartButtonEl =\n",
              "        document.querySelector('#' + key + ' button');\n",
              "      quickchartButtonEl.disabled = true;  // To prevent multiple clicks.\n",
              "      quickchartButtonEl.classList.add('colab-df-spinner');\n",
              "      try {\n",
              "        const charts = await google.colab.kernel.invokeFunction(\n",
              "            'suggestCharts', [key], {});\n",
              "      } catch (error) {\n",
              "        console.error('Error during call to suggestCharts:', error);\n",
              "      }\n",
              "      quickchartButtonEl.classList.remove('colab-df-spinner');\n",
              "      quickchartButtonEl.classList.add('colab-df-quickchart-complete');\n",
              "    }\n",
              "    (() => {\n",
              "      let quickchartButtonEl =\n",
              "        document.querySelector('#df-72f49c23-f2b3-4261-8cbc-5cd45131a0a2 button');\n",
              "      quickchartButtonEl.style.display =\n",
              "        google.colab.kernel.accessAllowed ? 'block' : 'none';\n",
              "    })();\n",
              "  </script>\n",
              "</div>\n",
              "    </div>\n",
              "  </div>\n"
            ]
          },
          "metadata": {},
          "execution_count": 49
        }
      ],
      "source": [
        "df=pd.read_excel(\"/content/drive/MyDrive/20211030 Test Assignment/Input.xlsx\")[['URL_ID','URL']]\n",
        "df=df.iloc[0:115]\n",
        "df"
      ]
    },
    {
      "cell_type": "code",
      "execution_count": null,
      "metadata": {
        "id": "QE3MyoKeckWc"
      },
      "outputs": [],
      "source": [
        "df.drop(\"URL_ID\",axis=1,inplace=True)"
      ]
    },
    {
      "cell_type": "markdown",
      "metadata": {
        "id": "4w7BdtjNcjPf"
      },
      "source": [
        "**DATA_EXTRACTION**"
      ]
    },
    {
      "cell_type": "code",
      "execution_count": null,
      "metadata": {
        "id": "CR_npXojmuyc"
      },
      "outputs": [],
      "source": [
        "import requests\n",
        "\n",
        "url = \"https://docs.google.com/spreadsheets/d/1D7QkDHxUSKnQhR--q0BAwKMxQlUyoJTQ/edit?usp=drive_link\"\n",
        "headers = {\n",
        "    'User-Agent': 'Mozilla/5.0 (Windows NT 10.0; Win64; x64) AppleWebKit/537.36 (KHTML, like Gecko) Chrome/74.0.3729.169 Safari/537.36'\n",
        "}\n",
        "\n",
        "response = requests.get(url, headers=headers)\n",
        "\n",
        "# Process the response as needed\n"
      ]
    },
    {
      "cell_type": "code",
      "execution_count": null,
      "metadata": {
        "id": "okJfelfTN1qd",
        "colab": {
          "base_uri": "https://localhost:8080/"
        },
        "outputId": "f6479c45-2773-4c8a-f7d8-a271830e24e7"
      },
      "outputs": [
        {
          "output_type": "stream",
          "name": "stdout",
          "text": [
            "An error occurred while processing URL 1: Data must be 1-dimensional\n",
            "An error occurred while processing URL 1: Data must be 1-dimensional\n",
            "An error occurred while processing URL 1: Data must be 1-dimensional\n",
            "An error occurred while processing URL 1: Data must be 1-dimensional\n",
            "An error occurred while processing URL 1: Data must be 1-dimensional\n",
            "An error occurred while processing URL 1: Data must be 1-dimensional\n",
            "An error occurred while processing URL 1: Data must be 1-dimensional\n",
            "An error occurred while processing URL 1: Data must be 1-dimensional\n",
            "An error occurred while processing URL 1: Data must be 1-dimensional\n",
            "An error occurred while processing URL 1: Data must be 1-dimensional\n",
            "An error occurred while processing URL 1: Data must be 1-dimensional\n",
            "An error occurred while processing URL 1: Data must be 1-dimensional\n",
            "An error occurred while processing URL 1: Data must be 1-dimensional\n",
            "An error occurred while processing URL 1: Data must be 1-dimensional\n",
            "An error occurred while processing URL 1: Data must be 1-dimensional\n",
            "An error occurred while processing URL 1: Data must be 1-dimensional\n",
            "An error occurred while processing URL 1: Data must be 1-dimensional\n",
            "An error occurred while processing URL 1: Data must be 1-dimensional\n",
            "An error occurred while processing URL 1: Data must be 1-dimensional\n",
            "An error occurred while processing URL 1: Data must be 1-dimensional\n",
            "An error occurred while processing URL 1: Data must be 1-dimensional\n",
            "An error occurred while processing URL 1: Data must be 1-dimensional\n",
            "An error occurred while processing URL 1: Data must be 1-dimensional\n",
            "An error occurred while processing URL 1: Data must be 1-dimensional\n",
            "An error occurred while processing URL 1: Data must be 1-dimensional\n",
            "An error occurred while processing URL 1: Data must be 1-dimensional\n",
            "An error occurred while processing URL 1: Data must be 1-dimensional\n",
            "An error occurred while processing URL 1: Data must be 1-dimensional\n",
            "An error occurred while processing URL 1: Data must be 1-dimensional\n",
            "An error occurred while processing URL 1: Data must be 1-dimensional\n",
            "An error occurred while processing URL 1: Data must be 1-dimensional\n",
            "An error occurred while processing URL 1: Data must be 1-dimensional\n",
            "An error occurred while processing URL 1: Data must be 1-dimensional\n",
            "An error occurred while processing URL 1: Data must be 1-dimensional\n",
            "An error occurred while processing URL 1: Data must be 1-dimensional\n",
            "An error occurred while processing URL 1: Data must be 1-dimensional\n",
            "An error occurred while processing URL 1: Data must be 1-dimensional\n",
            "An error occurred while processing URL 1: Data must be 1-dimensional\n",
            "An error occurred while processing URL 1: Data must be 1-dimensional\n",
            "An error occurred while processing URL 1: Data must be 1-dimensional\n",
            "An error occurred while processing URL 1: Data must be 1-dimensional\n",
            "An error occurred while processing URL 1: Data must be 1-dimensional\n",
            "An error occurred while processing URL 1: Data must be 1-dimensional\n",
            "An error occurred while processing URL 1: Data must be 1-dimensional\n",
            "An error occurred while processing URL 1: Data must be 1-dimensional\n",
            "An error occurred while processing URL 1: Data must be 1-dimensional\n",
            "An error occurred while processing URL 1: Data must be 1-dimensional\n",
            "An error occurred while processing URL 1: Data must be 1-dimensional\n",
            "An error occurred while processing URL 1: Data must be 1-dimensional\n",
            "An error occurred while processing URL 1: Data must be 1-dimensional\n",
            "An error occurred while processing URL 1: Data must be 1-dimensional\n",
            "An error occurred while processing URL 1: Data must be 1-dimensional\n",
            "An error occurred while processing URL 1: Data must be 1-dimensional\n",
            "An error occurred while processing URL 1: Data must be 1-dimensional\n",
            "An error occurred while processing URL 1: Data must be 1-dimensional\n",
            "An error occurred while processing URL 1: Data must be 1-dimensional\n",
            "An error occurred while processing URL 1: Data must be 1-dimensional\n",
            "An error occurred while processing URL 1: Data must be 1-dimensional\n",
            "An error occurred while processing URL 1: Data must be 1-dimensional\n",
            "An error occurred while processing URL 1: Data must be 1-dimensional\n",
            "An error occurred while processing URL 1: Data must be 1-dimensional\n",
            "An error occurred while processing URL 1: Data must be 1-dimensional\n",
            "An error occurred while processing URL 1: Data must be 1-dimensional\n",
            "An error occurred while processing URL 1: Data must be 1-dimensional\n",
            "An error occurred while processing URL 1: Data must be 1-dimensional\n",
            "An error occurred while processing URL 1: Data must be 1-dimensional\n",
            "An error occurred while processing URL 1: Data must be 1-dimensional\n",
            "An error occurred while processing URL 1: Data must be 1-dimensional\n",
            "An error occurred while processing URL 1: Data must be 1-dimensional\n",
            "An error occurred while processing URL 1: Data must be 1-dimensional\n",
            "An error occurred while processing URL 1: Data must be 1-dimensional\n",
            "An error occurred while processing URL 1: Data must be 1-dimensional\n",
            "An error occurred while processing URL 1: Data must be 1-dimensional\n",
            "An error occurred while processing URL 1: Data must be 1-dimensional\n",
            "An error occurred while processing URL 1: Data must be 1-dimensional\n",
            "An error occurred while processing URL 1: Data must be 1-dimensional\n",
            "An error occurred while processing URL 1: Data must be 1-dimensional\n",
            "An error occurred while processing URL 1: Data must be 1-dimensional\n",
            "An error occurred while processing URL 1: Data must be 1-dimensional\n",
            "An error occurred while processing URL 1: Data must be 1-dimensional\n",
            "An error occurred while processing URL 1: Data must be 1-dimensional\n",
            "An error occurred while processing URL 1: Data must be 1-dimensional\n",
            "An error occurred while processing URL 1: Data must be 1-dimensional\n",
            "An error occurred while processing URL 1: Data must be 1-dimensional\n",
            "An error occurred while processing URL 1: Data must be 1-dimensional\n",
            "An error occurred while processing URL 1: Data must be 1-dimensional\n",
            "An error occurred while processing URL 1: Data must be 1-dimensional\n",
            "An error occurred while processing URL 1: Data must be 1-dimensional\n",
            "An error occurred while processing URL 1: Data must be 1-dimensional\n",
            "An error occurred while processing URL 1: Data must be 1-dimensional\n",
            "An error occurred while processing URL 1: Data must be 1-dimensional\n",
            "An error occurred while processing URL 1: Data must be 1-dimensional\n",
            "An error occurred while processing URL 1: Data must be 1-dimensional\n",
            "An error occurred while processing URL 1: Data must be 1-dimensional\n",
            "An error occurred while processing URL 1: Data must be 1-dimensional\n",
            "An error occurred while processing URL 1: Data must be 1-dimensional\n",
            "An error occurred while processing URL 1: Data must be 1-dimensional\n",
            "An error occurred while processing URL 1: Data must be 1-dimensional\n",
            "An error occurred while processing URL 1: Data must be 1-dimensional\n",
            "An error occurred while processing URL 1: Data must be 1-dimensional\n",
            "An error occurred while processing URL 1: Data must be 1-dimensional\n",
            "An error occurred while processing URL 1: Data must be 1-dimensional\n",
            "An error occurred while processing URL 1: Data must be 1-dimensional\n",
            "An error occurred while processing URL 1: Data must be 1-dimensional\n",
            "An error occurred while processing URL 1: Data must be 1-dimensional\n",
            "An error occurred while processing URL 1: Data must be 1-dimensional\n",
            "An error occurred while processing URL 1: Data must be 1-dimensional\n",
            "An error occurred while processing URL 1: Data must be 1-dimensional\n",
            "An error occurred while processing URL 1: Data must be 1-dimensional\n",
            "An error occurred while processing URL 1: Data must be 1-dimensional\n",
            "An error occurred while processing URL 1: Data must be 1-dimensional\n",
            "An error occurred while processing URL 1: Data must be 1-dimensional\n",
            "An error occurred while processing URL 1: Data must be 1-dimensional\n",
            "An error occurred while processing URL 1: Data must be 1-dimensional\n",
            "Processing complete.\n"
          ]
        }
      ],
      "source": [
        "# Extrct the all Url\n",
        "\n",
        "import numpy as np\n",
        "import pandas as pd\n",
        "import requests\n",
        "from bs4 import BeautifulSoup\n",
        "\n",
        "url_id = 1\n",
        "\n",
        "for i in range(len(df)):\n",
        "    url = df.iloc[i].values[0]\n",
        "    headers = {\n",
        "        'User-Agent': 'Mozilla/5.0 (Windows NT 10.0; Win64; x64) AppleWebKit/537.36 (KHTML, like Gecko) Chrome/74.0.3729.169 Safari/537.36'\n",
        "    }\n",
        "\n",
        "    try:\n",
        "        page = requests.get(url, headers=headers)\n",
        "        soup = BeautifulSoup(page.content, 'html.parser')\n",
        "\n",
        "        content = soup.find_all(attrs={'class': 'td-post-content'})\n",
        "        if len(content) >= 2:\n",
        "            content_text = content[1].text.replace('\\xa0', ' ').replace('\\t', ' ')\n",
        "        else:\n",
        "            content_text = \"Content not available\"\n",
        "\n",
        "        title = soup.find_all(attrs={'class': 'entry-title'})\n",
        "        if len(title) >= 17:\n",
        "            title_text = title[16].text.replace('\\n', ' ').replace('/', '')\n",
        "        else:\n",
        "            title_text = \"Title not available\"\n",
        "\n",
        "        text = title_text + '.' + content_text\n",
        "        text = np.array(text)\n",
        "        text = text.reshape(1, -1)\n",
        "        df1 = pd.Series(text)\n",
        "\n",
        "        filename = str(url_id) + \".txt\"\n",
        "        with open(filename, 'w', encoding='utf-8') as f:\n",
        "            df1.to_csv(f, line_terminator=',', index=False, header=False)\n",
        "\n",
        "        url_id += 1\n",
        "\n",
        "    except Exception as e:\n",
        "        print(f\"An error occurred while processing URL {url_id}: {e}\")\n",
        "\n",
        "print(\"Processing complete.\")\n",
        "\n",
        "\n",
        "\n"
      ]
    },
    {
      "cell_type": "markdown",
      "metadata": {
        "id": "2ti3Vf0IkgPK"
      },
      "source": [
        "**DATA ANALYSIS**"
      ]
    },
    {
      "cell_type": "code",
      "source": [
        "import pandas as pd\n",
        "\n",
        "# Specify the file path\n",
        "file_path=\"/content/drive/MyDrive/20211030 Test Assignment/Input_new.txt\"\n",
        "# Read the CSV file into a DataFrame\n",
        "text = pd.read_csv(file_path, header=None)\n",
        "\n",
        "# Display the DataFrame\n",
        "print(text)\n",
        "\n",
        "\n"
      ],
      "metadata": {
        "id": "q_r5OjRBWoKp",
        "colab": {
          "base_uri": "https://localhost:8080/"
        },
        "outputId": "f5063de0-b76b-4d10-cf30-015089eb8332"
      },
      "execution_count": null,
      "outputs": [
        {
          "output_type": "stream",
          "name": "stdout",
          "text": [
            "                                                     0\n",
            "0                                          URL_ID\\tURL\n",
            "1    123\\thttps://insights.blackcoffer.com/rise-of-...\n",
            "2    321\\thttps://insights.blackcoffer.com/rise-of-...\n",
            "3    2345\\thttps://insights.blackcoffer.com/rise-of...\n",
            "4    4321\\thttps://insights.blackcoffer.com/rise-of...\n",
            "..                                                 ...\n",
            "110  50921\\thttps://insights.blackcoffer.com/corona...\n",
            "111  51382.8\\thttps://insights.blackcoffer.com/coro...\n",
            "112  51844.6\\thttps://insights.blackcoffer.com/what...\n",
            "113  52306.4\\thttps://insights.blackcoffer.com/mark...\n",
            "114  52768.2\\thttps://insights.blackcoffer.com/cont...\n",
            "\n",
            "[115 rows x 1 columns]\n"
          ]
        }
      ]
    },
    {
      "cell_type": "code",
      "source": [
        "text.describe()"
      ],
      "metadata": {
        "colab": {
          "base_uri": "https://localhost:8080/",
          "height": 175
        },
        "id": "WS2xpOWzbeIo",
        "outputId": "ff0efad1-c737-4a11-e9a6-1d21795d8b2e"
      },
      "execution_count": null,
      "outputs": [
        {
          "output_type": "execute_result",
          "data": {
            "text/plain": [
              "                  0\n",
              "count           115\n",
              "unique          115\n",
              "top     URL_ID\\tURL\n",
              "freq              1"
            ],
            "text/html": [
              "\n",
              "  <div id=\"df-d3579e6c-bfe1-4db5-afc7-68c76dbef90d\" class=\"colab-df-container\">\n",
              "    <div>\n",
              "<style scoped>\n",
              "    .dataframe tbody tr th:only-of-type {\n",
              "        vertical-align: middle;\n",
              "    }\n",
              "\n",
              "    .dataframe tbody tr th {\n",
              "        vertical-align: top;\n",
              "    }\n",
              "\n",
              "    .dataframe thead th {\n",
              "        text-align: right;\n",
              "    }\n",
              "</style>\n",
              "<table border=\"1\" class=\"dataframe\">\n",
              "  <thead>\n",
              "    <tr style=\"text-align: right;\">\n",
              "      <th></th>\n",
              "      <th>0</th>\n",
              "    </tr>\n",
              "  </thead>\n",
              "  <tbody>\n",
              "    <tr>\n",
              "      <th>count</th>\n",
              "      <td>115</td>\n",
              "    </tr>\n",
              "    <tr>\n",
              "      <th>unique</th>\n",
              "      <td>115</td>\n",
              "    </tr>\n",
              "    <tr>\n",
              "      <th>top</th>\n",
              "      <td>URL_ID\\tURL</td>\n",
              "    </tr>\n",
              "    <tr>\n",
              "      <th>freq</th>\n",
              "      <td>1</td>\n",
              "    </tr>\n",
              "  </tbody>\n",
              "</table>\n",
              "</div>\n",
              "    <div class=\"colab-df-buttons\">\n",
              "\n",
              "  <div class=\"colab-df-container\">\n",
              "    <button class=\"colab-df-convert\" onclick=\"convertToInteractive('df-d3579e6c-bfe1-4db5-afc7-68c76dbef90d')\"\n",
              "            title=\"Convert this dataframe to an interactive table.\"\n",
              "            style=\"display:none;\">\n",
              "\n",
              "  <svg xmlns=\"http://www.w3.org/2000/svg\" height=\"24px\" viewBox=\"0 -960 960 960\">\n",
              "    <path d=\"M120-120v-720h720v720H120Zm60-500h600v-160H180v160Zm220 220h160v-160H400v160Zm0 220h160v-160H400v160ZM180-400h160v-160H180v160Zm440 0h160v-160H620v160ZM180-180h160v-160H180v160Zm440 0h160v-160H620v160Z\"/>\n",
              "  </svg>\n",
              "    </button>\n",
              "\n",
              "  <style>\n",
              "    .colab-df-container {\n",
              "      display:flex;\n",
              "      gap: 12px;\n",
              "    }\n",
              "\n",
              "    .colab-df-convert {\n",
              "      background-color: #E8F0FE;\n",
              "      border: none;\n",
              "      border-radius: 50%;\n",
              "      cursor: pointer;\n",
              "      display: none;\n",
              "      fill: #1967D2;\n",
              "      height: 32px;\n",
              "      padding: 0 0 0 0;\n",
              "      width: 32px;\n",
              "    }\n",
              "\n",
              "    .colab-df-convert:hover {\n",
              "      background-color: #E2EBFA;\n",
              "      box-shadow: 0px 1px 2px rgba(60, 64, 67, 0.3), 0px 1px 3px 1px rgba(60, 64, 67, 0.15);\n",
              "      fill: #174EA6;\n",
              "    }\n",
              "\n",
              "    .colab-df-buttons div {\n",
              "      margin-bottom: 4px;\n",
              "    }\n",
              "\n",
              "    [theme=dark] .colab-df-convert {\n",
              "      background-color: #3B4455;\n",
              "      fill: #D2E3FC;\n",
              "    }\n",
              "\n",
              "    [theme=dark] .colab-df-convert:hover {\n",
              "      background-color: #434B5C;\n",
              "      box-shadow: 0px 1px 3px 1px rgba(0, 0, 0, 0.15);\n",
              "      filter: drop-shadow(0px 1px 2px rgba(0, 0, 0, 0.3));\n",
              "      fill: #FFFFFF;\n",
              "    }\n",
              "  </style>\n",
              "\n",
              "    <script>\n",
              "      const buttonEl =\n",
              "        document.querySelector('#df-d3579e6c-bfe1-4db5-afc7-68c76dbef90d button.colab-df-convert');\n",
              "      buttonEl.style.display =\n",
              "        google.colab.kernel.accessAllowed ? 'block' : 'none';\n",
              "\n",
              "      async function convertToInteractive(key) {\n",
              "        const element = document.querySelector('#df-d3579e6c-bfe1-4db5-afc7-68c76dbef90d');\n",
              "        const dataTable =\n",
              "          await google.colab.kernel.invokeFunction('convertToInteractive',\n",
              "                                                    [key], {});\n",
              "        if (!dataTable) return;\n",
              "\n",
              "        const docLinkHtml = 'Like what you see? Visit the ' +\n",
              "          '<a target=\"_blank\" href=https://colab.research.google.com/notebooks/data_table.ipynb>data table notebook</a>'\n",
              "          + ' to learn more about interactive tables.';\n",
              "        element.innerHTML = '';\n",
              "        dataTable['output_type'] = 'display_data';\n",
              "        await google.colab.output.renderOutput(dataTable, element);\n",
              "        const docLink = document.createElement('div');\n",
              "        docLink.innerHTML = docLinkHtml;\n",
              "        element.appendChild(docLink);\n",
              "      }\n",
              "    </script>\n",
              "  </div>\n",
              "\n",
              "\n",
              "<div id=\"df-5e096793-13a1-4688-8e4b-46d34dc83bec\">\n",
              "  <button class=\"colab-df-quickchart\" onclick=\"quickchart('df-5e096793-13a1-4688-8e4b-46d34dc83bec')\"\n",
              "            title=\"Suggest charts.\"\n",
              "            style=\"display:none;\">\n",
              "\n",
              "<svg xmlns=\"http://www.w3.org/2000/svg\" height=\"24px\"viewBox=\"0 0 24 24\"\n",
              "     width=\"24px\">\n",
              "    <g>\n",
              "        <path d=\"M19 3H5c-1.1 0-2 .9-2 2v14c0 1.1.9 2 2 2h14c1.1 0 2-.9 2-2V5c0-1.1-.9-2-2-2zM9 17H7v-7h2v7zm4 0h-2V7h2v10zm4 0h-2v-4h2v4z\"/>\n",
              "    </g>\n",
              "</svg>\n",
              "  </button>\n",
              "\n",
              "<style>\n",
              "  .colab-df-quickchart {\n",
              "      --bg-color: #E8F0FE;\n",
              "      --fill-color: #1967D2;\n",
              "      --hover-bg-color: #E2EBFA;\n",
              "      --hover-fill-color: #174EA6;\n",
              "      --disabled-fill-color: #AAA;\n",
              "      --disabled-bg-color: #DDD;\n",
              "  }\n",
              "\n",
              "  [theme=dark] .colab-df-quickchart {\n",
              "      --bg-color: #3B4455;\n",
              "      --fill-color: #D2E3FC;\n",
              "      --hover-bg-color: #434B5C;\n",
              "      --hover-fill-color: #FFFFFF;\n",
              "      --disabled-bg-color: #3B4455;\n",
              "      --disabled-fill-color: #666;\n",
              "  }\n",
              "\n",
              "  .colab-df-quickchart {\n",
              "    background-color: var(--bg-color);\n",
              "    border: none;\n",
              "    border-radius: 50%;\n",
              "    cursor: pointer;\n",
              "    display: none;\n",
              "    fill: var(--fill-color);\n",
              "    height: 32px;\n",
              "    padding: 0;\n",
              "    width: 32px;\n",
              "  }\n",
              "\n",
              "  .colab-df-quickchart:hover {\n",
              "    background-color: var(--hover-bg-color);\n",
              "    box-shadow: 0 1px 2px rgba(60, 64, 67, 0.3), 0 1px 3px 1px rgba(60, 64, 67, 0.15);\n",
              "    fill: var(--button-hover-fill-color);\n",
              "  }\n",
              "\n",
              "  .colab-df-quickchart-complete:disabled,\n",
              "  .colab-df-quickchart-complete:disabled:hover {\n",
              "    background-color: var(--disabled-bg-color);\n",
              "    fill: var(--disabled-fill-color);\n",
              "    box-shadow: none;\n",
              "  }\n",
              "\n",
              "  .colab-df-spinner {\n",
              "    border: 2px solid var(--fill-color);\n",
              "    border-color: transparent;\n",
              "    border-bottom-color: var(--fill-color);\n",
              "    animation:\n",
              "      spin 1s steps(1) infinite;\n",
              "  }\n",
              "\n",
              "  @keyframes spin {\n",
              "    0% {\n",
              "      border-color: transparent;\n",
              "      border-bottom-color: var(--fill-color);\n",
              "      border-left-color: var(--fill-color);\n",
              "    }\n",
              "    20% {\n",
              "      border-color: transparent;\n",
              "      border-left-color: var(--fill-color);\n",
              "      border-top-color: var(--fill-color);\n",
              "    }\n",
              "    30% {\n",
              "      border-color: transparent;\n",
              "      border-left-color: var(--fill-color);\n",
              "      border-top-color: var(--fill-color);\n",
              "      border-right-color: var(--fill-color);\n",
              "    }\n",
              "    40% {\n",
              "      border-color: transparent;\n",
              "      border-right-color: var(--fill-color);\n",
              "      border-top-color: var(--fill-color);\n",
              "    }\n",
              "    60% {\n",
              "      border-color: transparent;\n",
              "      border-right-color: var(--fill-color);\n",
              "    }\n",
              "    80% {\n",
              "      border-color: transparent;\n",
              "      border-right-color: var(--fill-color);\n",
              "      border-bottom-color: var(--fill-color);\n",
              "    }\n",
              "    90% {\n",
              "      border-color: transparent;\n",
              "      border-bottom-color: var(--fill-color);\n",
              "    }\n",
              "  }\n",
              "</style>\n",
              "\n",
              "  <script>\n",
              "    async function quickchart(key) {\n",
              "      const quickchartButtonEl =\n",
              "        document.querySelector('#' + key + ' button');\n",
              "      quickchartButtonEl.disabled = true;  // To prevent multiple clicks.\n",
              "      quickchartButtonEl.classList.add('colab-df-spinner');\n",
              "      try {\n",
              "        const charts = await google.colab.kernel.invokeFunction(\n",
              "            'suggestCharts', [key], {});\n",
              "      } catch (error) {\n",
              "        console.error('Error during call to suggestCharts:', error);\n",
              "      }\n",
              "      quickchartButtonEl.classList.remove('colab-df-spinner');\n",
              "      quickchartButtonEl.classList.add('colab-df-quickchart-complete');\n",
              "    }\n",
              "    (() => {\n",
              "      let quickchartButtonEl =\n",
              "        document.querySelector('#df-5e096793-13a1-4688-8e4b-46d34dc83bec button');\n",
              "      quickchartButtonEl.style.display =\n",
              "        google.colab.kernel.accessAllowed ? 'block' : 'none';\n",
              "    })();\n",
              "  </script>\n",
              "</div>\n",
              "    </div>\n",
              "  </div>\n"
            ]
          },
          "metadata": {},
          "execution_count": 114
        }
      ]
    },
    {
      "cell_type": "code",
      "execution_count": null,
      "metadata": {
        "colab": {
          "base_uri": "https://localhost:8080/"
        },
        "id": "MxRCxrOEkCm3",
        "outputId": "b8195600-b4d1-4970-9b60-df9c685956ba"
      },
      "outputs": [
        {
          "output_type": "stream",
          "name": "stdout",
          "text": [
            "<class 'pandas.core.frame.DataFrame'>\n",
            "RangeIndex: 115 entries, 0 to 114\n",
            "Data columns (total 1 columns):\n",
            " #   Column  Non-Null Count  Dtype \n",
            "---  ------  --------------  ----- \n",
            " 0   0       115 non-null    object\n",
            "dtypes: object(1)\n",
            "memory usage: 1.0+ KB\n"
          ]
        }
      ],
      "source": [
        "text.info()"
      ]
    },
    {
      "cell_type": "code",
      "source": [
        "print(text.columns)\n"
      ],
      "metadata": {
        "colab": {
          "base_uri": "https://localhost:8080/"
        },
        "id": "qkczT_80jqZr",
        "outputId": "cb5b98fd-d5e3-4c4e-944c-e73063213b72"
      },
      "execution_count": null,
      "outputs": [
        {
          "output_type": "stream",
          "name": "stdout",
          "text": [
            "Int64Index([0], dtype='int64')\n"
          ]
        }
      ]
    },
    {
      "cell_type": "code",
      "execution_count": null,
      "metadata": {
        "id": "-lU7Nn-dkYur"
      },
      "outputs": [],
      "source": [
        "#removing extra created column\n",
        "text.drop(0,axis=1,inplace=True)\n",
        "\n",
        "\n",
        "\n"
      ]
    },
    {
      "cell_type": "code",
      "execution_count": null,
      "metadata": {
        "id": "mjx9wQXjkxJP"
      },
      "outputs": [],
      "source": [
        "#converting type\n",
        "text=text.astype(str)"
      ]
    },
    {
      "cell_type": "code",
      "source": [
        "import nltk\n",
        "nltk.download('punkt')  # Download the punkt tokenizer models\n",
        "\n",
        "from nltk.tokenize import sent_tokenize\n",
        "\n",
        "text = \"\"\"Your text goes here. It may have multiple sentences. This is just an example.\"\"\"\n",
        "\n",
        "sentences = sent_tokenize(text)\n",
        "print(sentences)\n"
      ],
      "metadata": {
        "colab": {
          "base_uri": "https://localhost:8080/"
        },
        "id": "6nGHG5SYYdgW",
        "outputId": "3c608e10-c37c-42b9-8afe-2552166e7bc4"
      },
      "execution_count": null,
      "outputs": [
        {
          "output_type": "stream",
          "name": "stdout",
          "text": [
            "['Your text goes here.', 'It may have multiple sentences.', 'This is just an example.']\n"
          ]
        },
        {
          "output_type": "stream",
          "name": "stderr",
          "text": [
            "[nltk_data] Downloading package punkt to /root/nltk_data...\n",
            "[nltk_data]   Package punkt is already up-to-date!\n"
          ]
        }
      ]
    },
    {
      "cell_type": "code",
      "source": [
        "import spacy\n",
        "\n",
        "# Load the English language model\n",
        "nlp = spacy.load('en_core_web_sm')\n",
        "\n",
        "text = \"\"\"Your text goes here. It may have multiple sentences. This is just an example.\"\"\"\n",
        "\n",
        "doc = nlp(text)\n",
        "sentences = [sent.text for sent in doc.sents]\n",
        "print(sentences)\n"
      ],
      "metadata": {
        "colab": {
          "base_uri": "https://localhost:8080/"
        },
        "id": "1HQrRXZDYpM8",
        "outputId": "1ead9518-820b-4d30-d866-ceb1a18a712d"
      },
      "execution_count": null,
      "outputs": [
        {
          "output_type": "stream",
          "name": "stdout",
          "text": [
            "['Your text goes here.', 'It may have multiple sentences.', 'This is just an example.']\n"
          ]
        }
      ]
    },
    {
      "cell_type": "code",
      "execution_count": null,
      "metadata": {
        "id": "9Lr3hTDBk7Fv",
        "colab": {
          "base_uri": "https://localhost:8080/"
        },
        "outputId": "5ff69acc-9af6-4e33-8b26-a79b8815ffe7"
      },
      "outputs": [
        {
          "output_type": "stream",
          "name": "stdout",
          "text": [
            "                              abc\n",
            "0           This is a sample text\n",
            "1                              . \n",
            "2  It contains multiple sentences\n",
            "3                              . \n",
            "4           Another sentence here\n",
            "5                              . \n",
            "6                                \n"
          ]
        }
      ],
      "source": [
        "#converting text to sentence\n",
        "# import re\n",
        "# a=text[0].str.split('([\\.]\\s)',expand=False)#splitting text on '.'\n",
        "# b=a.explode()#converting to rows\n",
        "# b=pd.DataFrame(b)#creating data frame\n",
        "# b.columns=['abc']\n",
        "\n",
        "import pandas as pd\n",
        "\n",
        "# Assuming text is a list with at least one string\n",
        "text = [\"This is a sample text. It contains multiple sentences. Another sentence here. \"]\n",
        "\n",
        "# Check if text[0] is a string\n",
        "if isinstance(text[0], str):\n",
        "    # Split the text using regular expression\n",
        "    a = re.split(r'([.]\\s)', text[0])\n",
        "\n",
        "    # Convert the list to a DataFrame\n",
        "    b = pd.DataFrame({'abc': a})\n",
        "\n",
        "    # Print the DataFrame\n",
        "    print(b)\n",
        "else:\n",
        "    print(\"text[0] is not a string.\")\n"
      ]
    },
    {
      "cell_type": "code",
      "execution_count": null,
      "metadata": {
        "id": "kmD1gR8Hk990"
      },
      "outputs": [],
      "source": [
        "#removing . char from each rows\n",
        "def abcd(x):\n",
        "    nopunc =[char for char in x if char != '.']\n",
        "    return ''.join(nopunc)\n",
        "b['abc']=b['abc'].apply(abcd)"
      ]
    },
    {
      "cell_type": "code",
      "execution_count": null,
      "metadata": {
        "id": "KcDiV7EllOeX"
      },
      "outputs": [],
      "source": [
        "#replacing emty space with null values\n",
        "c=b.replace('',np.nan,regex=True)\n",
        "c=c.mask(c==\" \")\n",
        "c=c.dropna()\n",
        "c.reset_index(drop=True,inplace=True)\n",
        "\n",
        "\n"
      ]
    },
    {
      "cell_type": "code",
      "execution_count": null,
      "metadata": {
        "colab": {
          "base_uri": "https://localhost:8080/",
          "height": 143
        },
        "id": "1aLV_Dm6lWY7",
        "outputId": "051ebef3-7ead-4ad1-ba07-7ff6caff8569"
      },
      "outputs": [
        {
          "output_type": "execute_result",
          "data": {
            "text/plain": [
              "                              abc\n",
              "0           This is a sample text\n",
              "1  It contains multiple sentences\n",
              "2           Another sentence here"
            ],
            "text/html": [
              "\n",
              "  <div id=\"df-8b96207b-2c24-426e-876e-64872fc2f765\" class=\"colab-df-container\">\n",
              "    <div>\n",
              "<style scoped>\n",
              "    .dataframe tbody tr th:only-of-type {\n",
              "        vertical-align: middle;\n",
              "    }\n",
              "\n",
              "    .dataframe tbody tr th {\n",
              "        vertical-align: top;\n",
              "    }\n",
              "\n",
              "    .dataframe thead th {\n",
              "        text-align: right;\n",
              "    }\n",
              "</style>\n",
              "<table border=\"1\" class=\"dataframe\">\n",
              "  <thead>\n",
              "    <tr style=\"text-align: right;\">\n",
              "      <th></th>\n",
              "      <th>abc</th>\n",
              "    </tr>\n",
              "  </thead>\n",
              "  <tbody>\n",
              "    <tr>\n",
              "      <th>0</th>\n",
              "      <td>This is a sample text</td>\n",
              "    </tr>\n",
              "    <tr>\n",
              "      <th>1</th>\n",
              "      <td>It contains multiple sentences</td>\n",
              "    </tr>\n",
              "    <tr>\n",
              "      <th>2</th>\n",
              "      <td>Another sentence here</td>\n",
              "    </tr>\n",
              "  </tbody>\n",
              "</table>\n",
              "</div>\n",
              "    <div class=\"colab-df-buttons\">\n",
              "\n",
              "  <div class=\"colab-df-container\">\n",
              "    <button class=\"colab-df-convert\" onclick=\"convertToInteractive('df-8b96207b-2c24-426e-876e-64872fc2f765')\"\n",
              "            title=\"Convert this dataframe to an interactive table.\"\n",
              "            style=\"display:none;\">\n",
              "\n",
              "  <svg xmlns=\"http://www.w3.org/2000/svg\" height=\"24px\" viewBox=\"0 -960 960 960\">\n",
              "    <path d=\"M120-120v-720h720v720H120Zm60-500h600v-160H180v160Zm220 220h160v-160H400v160Zm0 220h160v-160H400v160ZM180-400h160v-160H180v160Zm440 0h160v-160H620v160ZM180-180h160v-160H180v160Zm440 0h160v-160H620v160Z\"/>\n",
              "  </svg>\n",
              "    </button>\n",
              "\n",
              "  <style>\n",
              "    .colab-df-container {\n",
              "      display:flex;\n",
              "      gap: 12px;\n",
              "    }\n",
              "\n",
              "    .colab-df-convert {\n",
              "      background-color: #E8F0FE;\n",
              "      border: none;\n",
              "      border-radius: 50%;\n",
              "      cursor: pointer;\n",
              "      display: none;\n",
              "      fill: #1967D2;\n",
              "      height: 32px;\n",
              "      padding: 0 0 0 0;\n",
              "      width: 32px;\n",
              "    }\n",
              "\n",
              "    .colab-df-convert:hover {\n",
              "      background-color: #E2EBFA;\n",
              "      box-shadow: 0px 1px 2px rgba(60, 64, 67, 0.3), 0px 1px 3px 1px rgba(60, 64, 67, 0.15);\n",
              "      fill: #174EA6;\n",
              "    }\n",
              "\n",
              "    .colab-df-buttons div {\n",
              "      margin-bottom: 4px;\n",
              "    }\n",
              "\n",
              "    [theme=dark] .colab-df-convert {\n",
              "      background-color: #3B4455;\n",
              "      fill: #D2E3FC;\n",
              "    }\n",
              "\n",
              "    [theme=dark] .colab-df-convert:hover {\n",
              "      background-color: #434B5C;\n",
              "      box-shadow: 0px 1px 3px 1px rgba(0, 0, 0, 0.15);\n",
              "      filter: drop-shadow(0px 1px 2px rgba(0, 0, 0, 0.3));\n",
              "      fill: #FFFFFF;\n",
              "    }\n",
              "  </style>\n",
              "\n",
              "    <script>\n",
              "      const buttonEl =\n",
              "        document.querySelector('#df-8b96207b-2c24-426e-876e-64872fc2f765 button.colab-df-convert');\n",
              "      buttonEl.style.display =\n",
              "        google.colab.kernel.accessAllowed ? 'block' : 'none';\n",
              "\n",
              "      async function convertToInteractive(key) {\n",
              "        const element = document.querySelector('#df-8b96207b-2c24-426e-876e-64872fc2f765');\n",
              "        const dataTable =\n",
              "          await google.colab.kernel.invokeFunction('convertToInteractive',\n",
              "                                                    [key], {});\n",
              "        if (!dataTable) return;\n",
              "\n",
              "        const docLinkHtml = 'Like what you see? Visit the ' +\n",
              "          '<a target=\"_blank\" href=https://colab.research.google.com/notebooks/data_table.ipynb>data table notebook</a>'\n",
              "          + ' to learn more about interactive tables.';\n",
              "        element.innerHTML = '';\n",
              "        dataTable['output_type'] = 'display_data';\n",
              "        await google.colab.output.renderOutput(dataTable, element);\n",
              "        const docLink = document.createElement('div');\n",
              "        docLink.innerHTML = docLinkHtml;\n",
              "        element.appendChild(docLink);\n",
              "      }\n",
              "    </script>\n",
              "  </div>\n",
              "\n",
              "\n",
              "<div id=\"df-4b4cb175-ee2f-4627-bdd6-b0da78fed2df\">\n",
              "  <button class=\"colab-df-quickchart\" onclick=\"quickchart('df-4b4cb175-ee2f-4627-bdd6-b0da78fed2df')\"\n",
              "            title=\"Suggest charts.\"\n",
              "            style=\"display:none;\">\n",
              "\n",
              "<svg xmlns=\"http://www.w3.org/2000/svg\" height=\"24px\"viewBox=\"0 0 24 24\"\n",
              "     width=\"24px\">\n",
              "    <g>\n",
              "        <path d=\"M19 3H5c-1.1 0-2 .9-2 2v14c0 1.1.9 2 2 2h14c1.1 0 2-.9 2-2V5c0-1.1-.9-2-2-2zM9 17H7v-7h2v7zm4 0h-2V7h2v10zm4 0h-2v-4h2v4z\"/>\n",
              "    </g>\n",
              "</svg>\n",
              "  </button>\n",
              "\n",
              "<style>\n",
              "  .colab-df-quickchart {\n",
              "      --bg-color: #E8F0FE;\n",
              "      --fill-color: #1967D2;\n",
              "      --hover-bg-color: #E2EBFA;\n",
              "      --hover-fill-color: #174EA6;\n",
              "      --disabled-fill-color: #AAA;\n",
              "      --disabled-bg-color: #DDD;\n",
              "  }\n",
              "\n",
              "  [theme=dark] .colab-df-quickchart {\n",
              "      --bg-color: #3B4455;\n",
              "      --fill-color: #D2E3FC;\n",
              "      --hover-bg-color: #434B5C;\n",
              "      --hover-fill-color: #FFFFFF;\n",
              "      --disabled-bg-color: #3B4455;\n",
              "      --disabled-fill-color: #666;\n",
              "  }\n",
              "\n",
              "  .colab-df-quickchart {\n",
              "    background-color: var(--bg-color);\n",
              "    border: none;\n",
              "    border-radius: 50%;\n",
              "    cursor: pointer;\n",
              "    display: none;\n",
              "    fill: var(--fill-color);\n",
              "    height: 32px;\n",
              "    padding: 0;\n",
              "    width: 32px;\n",
              "  }\n",
              "\n",
              "  .colab-df-quickchart:hover {\n",
              "    background-color: var(--hover-bg-color);\n",
              "    box-shadow: 0 1px 2px rgba(60, 64, 67, 0.3), 0 1px 3px 1px rgba(60, 64, 67, 0.15);\n",
              "    fill: var(--button-hover-fill-color);\n",
              "  }\n",
              "\n",
              "  .colab-df-quickchart-complete:disabled,\n",
              "  .colab-df-quickchart-complete:disabled:hover {\n",
              "    background-color: var(--disabled-bg-color);\n",
              "    fill: var(--disabled-fill-color);\n",
              "    box-shadow: none;\n",
              "  }\n",
              "\n",
              "  .colab-df-spinner {\n",
              "    border: 2px solid var(--fill-color);\n",
              "    border-color: transparent;\n",
              "    border-bottom-color: var(--fill-color);\n",
              "    animation:\n",
              "      spin 1s steps(1) infinite;\n",
              "  }\n",
              "\n",
              "  @keyframes spin {\n",
              "    0% {\n",
              "      border-color: transparent;\n",
              "      border-bottom-color: var(--fill-color);\n",
              "      border-left-color: var(--fill-color);\n",
              "    }\n",
              "    20% {\n",
              "      border-color: transparent;\n",
              "      border-left-color: var(--fill-color);\n",
              "      border-top-color: var(--fill-color);\n",
              "    }\n",
              "    30% {\n",
              "      border-color: transparent;\n",
              "      border-left-color: var(--fill-color);\n",
              "      border-top-color: var(--fill-color);\n",
              "      border-right-color: var(--fill-color);\n",
              "    }\n",
              "    40% {\n",
              "      border-color: transparent;\n",
              "      border-right-color: var(--fill-color);\n",
              "      border-top-color: var(--fill-color);\n",
              "    }\n",
              "    60% {\n",
              "      border-color: transparent;\n",
              "      border-right-color: var(--fill-color);\n",
              "    }\n",
              "    80% {\n",
              "      border-color: transparent;\n",
              "      border-right-color: var(--fill-color);\n",
              "      border-bottom-color: var(--fill-color);\n",
              "    }\n",
              "    90% {\n",
              "      border-color: transparent;\n",
              "      border-bottom-color: var(--fill-color);\n",
              "    }\n",
              "  }\n",
              "</style>\n",
              "\n",
              "  <script>\n",
              "    async function quickchart(key) {\n",
              "      const quickchartButtonEl =\n",
              "        document.querySelector('#' + key + ' button');\n",
              "      quickchartButtonEl.disabled = true;  // To prevent multiple clicks.\n",
              "      quickchartButtonEl.classList.add('colab-df-spinner');\n",
              "      try {\n",
              "        const charts = await google.colab.kernel.invokeFunction(\n",
              "            'suggestCharts', [key], {});\n",
              "      } catch (error) {\n",
              "        console.error('Error during call to suggestCharts:', error);\n",
              "      }\n",
              "      quickchartButtonEl.classList.remove('colab-df-spinner');\n",
              "      quickchartButtonEl.classList.add('colab-df-quickchart-complete');\n",
              "    }\n",
              "    (() => {\n",
              "      let quickchartButtonEl =\n",
              "        document.querySelector('#df-4b4cb175-ee2f-4627-bdd6-b0da78fed2df button');\n",
              "      quickchartButtonEl.style.display =\n",
              "        google.colab.kernel.accessAllowed ? 'block' : 'none';\n",
              "    })();\n",
              "  </script>\n",
              "</div>\n",
              "    </div>\n",
              "  </div>\n"
            ]
          },
          "metadata": {},
          "execution_count": 144
        }
      ],
      "source": [
        "c\n"
      ]
    },
    {
      "cell_type": "code",
      "source": [
        "#importing nltk library and stopwords\n",
        "import nltk\n",
        "import string"
      ],
      "metadata": {
        "id": "50QcI9Rt4q8J"
      },
      "execution_count": null,
      "outputs": []
    },
    {
      "cell_type": "code",
      "source": [
        "punc=[punc for punc in string.punctuation]\n",
        "punc"
      ],
      "metadata": {
        "colab": {
          "base_uri": "https://localhost:8080/"
        },
        "id": "DbF52hRU4zjy",
        "outputId": "7bb2766f-c948-4d0d-f9da-5d0dba0d86ff"
      },
      "execution_count": null,
      "outputs": [
        {
          "output_type": "execute_result",
          "data": {
            "text/plain": [
              "['!',\n",
              " '\"',\n",
              " '#',\n",
              " '$',\n",
              " '%',\n",
              " '&',\n",
              " \"'\",\n",
              " '(',\n",
              " ')',\n",
              " '*',\n",
              " '+',\n",
              " ',',\n",
              " '-',\n",
              " '.',\n",
              " '/',\n",
              " ':',\n",
              " ';',\n",
              " '<',\n",
              " '=',\n",
              " '>',\n",
              " '?',\n",
              " '@',\n",
              " '[',\n",
              " '\\\\',\n",
              " ']',\n",
              " '^',\n",
              " '_',\n",
              " '`',\n",
              " '{',\n",
              " '|',\n",
              " '}',\n",
              " '~']"
            ]
          },
          "metadata": {},
          "execution_count": 146
        }
      ]
    },
    {
      "cell_type": "code",
      "source": [
        "#importing stop words files that are provided\n",
        "StopWords_Auditor=pd.read_csv(\"/content/drive/MyDrive/20211030 Test Assignment/StopWords/StopWords_Auditor.txt\",header=None)\n",
        "StopWords_Currencies=pd.read_csv(\"/content/drive/MyDrive/20211030 Test Assignment/StopWords/StopWords_Currencies.txt\",header=None,encoding=\"ISO-8859-1\",sep='\\t' )\n",
        "StopWords_DatesandNumbers=pd.read_csv(\"/content/drive/MyDrive/20211030 Test Assignment/StopWords/StopWords_DatesandNumbers.txt\",header=None)\n",
        "StopWords_Generic=pd.read_csv(\"/content/drive/MyDrive/20211030 Test Assignment/StopWords/StopWords_Generic.txt\",header=None)\n",
        "StopWords_GenericLong=pd.read_csv(\"/content/drive/MyDrive/20211030 Test Assignment/StopWords/StopWords_GenericLong.txt\",header=None)\n",
        "StopWords_Geographic=pd.read_csv(\"/content/drive/MyDrive/20211030 Test Assignment/StopWords/StopWords_Geographic.txt\",header=None)\n",
        "StopWords_Names=pd.read_csv(\"/content/drive/MyDrive/20211030 Test Assignment/StopWords/StopWords_Names.txt\",header=None)\n"
      ],
      "metadata": {
        "id": "hYmVmy3I42-m"
      },
      "execution_count": null,
      "outputs": []
    },
    {
      "cell_type": "code",
      "source": [
        "#creating func for removing stop words\n",
        "def text_process(text):\n",
        "    nopunc =[char for char in text if char not in punc or char not in [':',',','(',')','’','?']]\n",
        "    nopunc=''.join(nopunc)\n",
        "    txt=' '.join([word for word in nopunc.split() if word.lower() not in StopWords_Auditor])\n",
        "    txt1=' '.join([word for word in txt.split() if word.lower() not in StopWords_Currencies])\n",
        "    txt2=' '.join([word for word in txt1.split() if word.lower() not in StopWords_DatesandNumbers])\n",
        "    txt3=' '.join([word for word in txt2.split() if word.lower() not in StopWords_Generic])\n",
        "    txt4=' '.join([word for word in txt3.split() if word.lower() not in StopWords_GenericLong])\n",
        "    txt5=' '.join([word for word in txt4.split() if word.lower() not in StopWords_Geographic])\n",
        "    return ' '.join([word for word in txt5.split() if word.lower() not in StopWords_Names])"
      ],
      "metadata": {
        "id": "1FToPAUR_AD-"
      },
      "execution_count": null,
      "outputs": []
    },
    {
      "cell_type": "code",
      "source": [
        "#applying func for each row\n",
        "c['abc']=c['abc'].apply(text_process)\n",
        "c"
      ],
      "metadata": {
        "colab": {
          "base_uri": "https://localhost:8080/",
          "height": 143
        },
        "id": "4JSLwWOp_ERs",
        "outputId": "bd513490-ab1c-4dc2-f9a4-c51a475c3a7a"
      },
      "execution_count": null,
      "outputs": [
        {
          "output_type": "execute_result",
          "data": {
            "text/plain": [
              "                              abc\n",
              "0           This is a sample text\n",
              "1  It contains multiple sentences\n",
              "2           Another sentence here"
            ],
            "text/html": [
              "\n",
              "  <div id=\"df-1f013853-1625-45cb-9529-b9a00cb2007d\" class=\"colab-df-container\">\n",
              "    <div>\n",
              "<style scoped>\n",
              "    .dataframe tbody tr th:only-of-type {\n",
              "        vertical-align: middle;\n",
              "    }\n",
              "\n",
              "    .dataframe tbody tr th {\n",
              "        vertical-align: top;\n",
              "    }\n",
              "\n",
              "    .dataframe thead th {\n",
              "        text-align: right;\n",
              "    }\n",
              "</style>\n",
              "<table border=\"1\" class=\"dataframe\">\n",
              "  <thead>\n",
              "    <tr style=\"text-align: right;\">\n",
              "      <th></th>\n",
              "      <th>abc</th>\n",
              "    </tr>\n",
              "  </thead>\n",
              "  <tbody>\n",
              "    <tr>\n",
              "      <th>0</th>\n",
              "      <td>This is a sample text</td>\n",
              "    </tr>\n",
              "    <tr>\n",
              "      <th>1</th>\n",
              "      <td>It contains multiple sentences</td>\n",
              "    </tr>\n",
              "    <tr>\n",
              "      <th>2</th>\n",
              "      <td>Another sentence here</td>\n",
              "    </tr>\n",
              "  </tbody>\n",
              "</table>\n",
              "</div>\n",
              "    <div class=\"colab-df-buttons\">\n",
              "\n",
              "  <div class=\"colab-df-container\">\n",
              "    <button class=\"colab-df-convert\" onclick=\"convertToInteractive('df-1f013853-1625-45cb-9529-b9a00cb2007d')\"\n",
              "            title=\"Convert this dataframe to an interactive table.\"\n",
              "            style=\"display:none;\">\n",
              "\n",
              "  <svg xmlns=\"http://www.w3.org/2000/svg\" height=\"24px\" viewBox=\"0 -960 960 960\">\n",
              "    <path d=\"M120-120v-720h720v720H120Zm60-500h600v-160H180v160Zm220 220h160v-160H400v160Zm0 220h160v-160H400v160ZM180-400h160v-160H180v160Zm440 0h160v-160H620v160ZM180-180h160v-160H180v160Zm440 0h160v-160H620v160Z\"/>\n",
              "  </svg>\n",
              "    </button>\n",
              "\n",
              "  <style>\n",
              "    .colab-df-container {\n",
              "      display:flex;\n",
              "      gap: 12px;\n",
              "    }\n",
              "\n",
              "    .colab-df-convert {\n",
              "      background-color: #E8F0FE;\n",
              "      border: none;\n",
              "      border-radius: 50%;\n",
              "      cursor: pointer;\n",
              "      display: none;\n",
              "      fill: #1967D2;\n",
              "      height: 32px;\n",
              "      padding: 0 0 0 0;\n",
              "      width: 32px;\n",
              "    }\n",
              "\n",
              "    .colab-df-convert:hover {\n",
              "      background-color: #E2EBFA;\n",
              "      box-shadow: 0px 1px 2px rgba(60, 64, 67, 0.3), 0px 1px 3px 1px rgba(60, 64, 67, 0.15);\n",
              "      fill: #174EA6;\n",
              "    }\n",
              "\n",
              "    .colab-df-buttons div {\n",
              "      margin-bottom: 4px;\n",
              "    }\n",
              "\n",
              "    [theme=dark] .colab-df-convert {\n",
              "      background-color: #3B4455;\n",
              "      fill: #D2E3FC;\n",
              "    }\n",
              "\n",
              "    [theme=dark] .colab-df-convert:hover {\n",
              "      background-color: #434B5C;\n",
              "      box-shadow: 0px 1px 3px 1px rgba(0, 0, 0, 0.15);\n",
              "      filter: drop-shadow(0px 1px 2px rgba(0, 0, 0, 0.3));\n",
              "      fill: #FFFFFF;\n",
              "    }\n",
              "  </style>\n",
              "\n",
              "    <script>\n",
              "      const buttonEl =\n",
              "        document.querySelector('#df-1f013853-1625-45cb-9529-b9a00cb2007d button.colab-df-convert');\n",
              "      buttonEl.style.display =\n",
              "        google.colab.kernel.accessAllowed ? 'block' : 'none';\n",
              "\n",
              "      async function convertToInteractive(key) {\n",
              "        const element = document.querySelector('#df-1f013853-1625-45cb-9529-b9a00cb2007d');\n",
              "        const dataTable =\n",
              "          await google.colab.kernel.invokeFunction('convertToInteractive',\n",
              "                                                    [key], {});\n",
              "        if (!dataTable) return;\n",
              "\n",
              "        const docLinkHtml = 'Like what you see? Visit the ' +\n",
              "          '<a target=\"_blank\" href=https://colab.research.google.com/notebooks/data_table.ipynb>data table notebook</a>'\n",
              "          + ' to learn more about interactive tables.';\n",
              "        element.innerHTML = '';\n",
              "        dataTable['output_type'] = 'display_data';\n",
              "        await google.colab.output.renderOutput(dataTable, element);\n",
              "        const docLink = document.createElement('div');\n",
              "        docLink.innerHTML = docLinkHtml;\n",
              "        element.appendChild(docLink);\n",
              "      }\n",
              "    </script>\n",
              "  </div>\n",
              "\n",
              "\n",
              "<div id=\"df-220643b1-35ac-4e21-93f0-254c6dcca8f7\">\n",
              "  <button class=\"colab-df-quickchart\" onclick=\"quickchart('df-220643b1-35ac-4e21-93f0-254c6dcca8f7')\"\n",
              "            title=\"Suggest charts.\"\n",
              "            style=\"display:none;\">\n",
              "\n",
              "<svg xmlns=\"http://www.w3.org/2000/svg\" height=\"24px\"viewBox=\"0 0 24 24\"\n",
              "     width=\"24px\">\n",
              "    <g>\n",
              "        <path d=\"M19 3H5c-1.1 0-2 .9-2 2v14c0 1.1.9 2 2 2h14c1.1 0 2-.9 2-2V5c0-1.1-.9-2-2-2zM9 17H7v-7h2v7zm4 0h-2V7h2v10zm4 0h-2v-4h2v4z\"/>\n",
              "    </g>\n",
              "</svg>\n",
              "  </button>\n",
              "\n",
              "<style>\n",
              "  .colab-df-quickchart {\n",
              "      --bg-color: #E8F0FE;\n",
              "      --fill-color: #1967D2;\n",
              "      --hover-bg-color: #E2EBFA;\n",
              "      --hover-fill-color: #174EA6;\n",
              "      --disabled-fill-color: #AAA;\n",
              "      --disabled-bg-color: #DDD;\n",
              "  }\n",
              "\n",
              "  [theme=dark] .colab-df-quickchart {\n",
              "      --bg-color: #3B4455;\n",
              "      --fill-color: #D2E3FC;\n",
              "      --hover-bg-color: #434B5C;\n",
              "      --hover-fill-color: #FFFFFF;\n",
              "      --disabled-bg-color: #3B4455;\n",
              "      --disabled-fill-color: #666;\n",
              "  }\n",
              "\n",
              "  .colab-df-quickchart {\n",
              "    background-color: var(--bg-color);\n",
              "    border: none;\n",
              "    border-radius: 50%;\n",
              "    cursor: pointer;\n",
              "    display: none;\n",
              "    fill: var(--fill-color);\n",
              "    height: 32px;\n",
              "    padding: 0;\n",
              "    width: 32px;\n",
              "  }\n",
              "\n",
              "  .colab-df-quickchart:hover {\n",
              "    background-color: var(--hover-bg-color);\n",
              "    box-shadow: 0 1px 2px rgba(60, 64, 67, 0.3), 0 1px 3px 1px rgba(60, 64, 67, 0.15);\n",
              "    fill: var(--button-hover-fill-color);\n",
              "  }\n",
              "\n",
              "  .colab-df-quickchart-complete:disabled,\n",
              "  .colab-df-quickchart-complete:disabled:hover {\n",
              "    background-color: var(--disabled-bg-color);\n",
              "    fill: var(--disabled-fill-color);\n",
              "    box-shadow: none;\n",
              "  }\n",
              "\n",
              "  .colab-df-spinner {\n",
              "    border: 2px solid var(--fill-color);\n",
              "    border-color: transparent;\n",
              "    border-bottom-color: var(--fill-color);\n",
              "    animation:\n",
              "      spin 1s steps(1) infinite;\n",
              "  }\n",
              "\n",
              "  @keyframes spin {\n",
              "    0% {\n",
              "      border-color: transparent;\n",
              "      border-bottom-color: var(--fill-color);\n",
              "      border-left-color: var(--fill-color);\n",
              "    }\n",
              "    20% {\n",
              "      border-color: transparent;\n",
              "      border-left-color: var(--fill-color);\n",
              "      border-top-color: var(--fill-color);\n",
              "    }\n",
              "    30% {\n",
              "      border-color: transparent;\n",
              "      border-left-color: var(--fill-color);\n",
              "      border-top-color: var(--fill-color);\n",
              "      border-right-color: var(--fill-color);\n",
              "    }\n",
              "    40% {\n",
              "      border-color: transparent;\n",
              "      border-right-color: var(--fill-color);\n",
              "      border-top-color: var(--fill-color);\n",
              "    }\n",
              "    60% {\n",
              "      border-color: transparent;\n",
              "      border-right-color: var(--fill-color);\n",
              "    }\n",
              "    80% {\n",
              "      border-color: transparent;\n",
              "      border-right-color: var(--fill-color);\n",
              "      border-bottom-color: var(--fill-color);\n",
              "    }\n",
              "    90% {\n",
              "      border-color: transparent;\n",
              "      border-bottom-color: var(--fill-color);\n",
              "    }\n",
              "  }\n",
              "</style>\n",
              "\n",
              "  <script>\n",
              "    async function quickchart(key) {\n",
              "      const quickchartButtonEl =\n",
              "        document.querySelector('#' + key + ' button');\n",
              "      quickchartButtonEl.disabled = true;  // To prevent multiple clicks.\n",
              "      quickchartButtonEl.classList.add('colab-df-spinner');\n",
              "      try {\n",
              "        const charts = await google.colab.kernel.invokeFunction(\n",
              "            'suggestCharts', [key], {});\n",
              "      } catch (error) {\n",
              "        console.error('Error during call to suggestCharts:', error);\n",
              "      }\n",
              "      quickchartButtonEl.classList.remove('colab-df-spinner');\n",
              "      quickchartButtonEl.classList.add('colab-df-quickchart-complete');\n",
              "    }\n",
              "    (() => {\n",
              "      let quickchartButtonEl =\n",
              "        document.querySelector('#df-220643b1-35ac-4e21-93f0-254c6dcca8f7 button');\n",
              "      quickchartButtonEl.style.display =\n",
              "        google.colab.kernel.accessAllowed ? 'block' : 'none';\n",
              "    })();\n",
              "  </script>\n",
              "</div>\n",
              "    </div>\n",
              "  </div>\n"
            ]
          },
          "metadata": {},
          "execution_count": 149
        }
      ]
    },
    {
      "cell_type": "code",
      "source": [
        "#importing master Dictionary\n",
        "positive=pd.read_csv(\"/content/drive/MyDrive/20211030 Test Assignment/MasterDictionary/positive-words.txt\",header=None)\n",
        "negative=pd.read_csv(\"/content/drive/MyDrive/20211030 Test Assignment/MasterDictionary/negative-words.txt\",header=None,encoding=\"ISO-8859-1\",sep='\\t' )\n"
      ],
      "metadata": {
        "id": "dbnWxNdp_HxK"
      },
      "execution_count": null,
      "outputs": []
    },
    {
      "cell_type": "code",
      "source": [
        "positive.columns=['abc']\n",
        "negative.columns=['abc']\n",
        "positive['abc']=positive['abc'].astype(str)\n",
        "negative['abc']=negative['abc'].astype(str)"
      ],
      "metadata": {
        "id": "55tQd62O_rj8"
      },
      "execution_count": null,
      "outputs": []
    },
    {
      "cell_type": "code",
      "source": [
        "#positive and negative dictionary without stopwords\n",
        "positive['abc']=positive['abc'].apply(text_process)\n",
        "negative['abc']=negative['abc'].apply(text_process)"
      ],
      "metadata": {
        "id": "keLomjyS_ueR"
      },
      "execution_count": null,
      "outputs": []
    },
    {
      "cell_type": "code",
      "source": [
        "#positive list\n",
        "length=positive.shape[0]\n",
        "post=[]\n",
        "for i in range(0,length):\n",
        "   nopunc =[char for char in positive.iloc[i] if char not in string.punctuation or char != '+']\n",
        "   nopunc=''.join(nopunc)\n",
        "\n",
        "   post.append(nopunc)"
      ],
      "metadata": {
        "id": "hzbc_IvO_yXL"
      },
      "execution_count": null,
      "outputs": []
    },
    {
      "cell_type": "code",
      "source": [
        "#negative list\n",
        "length=negative.shape[0]\n",
        "neg=[]\n",
        "for i in range(0,length):\n",
        "  nopunc =[char for char in negative.iloc[i] if char not in string.punctuation or char != '+']\n",
        "  nopunc=''.join(nopunc)\n",
        "  neg.append(nopunc)"
      ],
      "metadata": {
        "id": "0txDGqFT_7es"
      },
      "execution_count": null,
      "outputs": []
    },
    {
      "cell_type": "code",
      "source": [
        "#importing tokenize library\n",
        "from nltk.tokenize import word_tokenize"
      ],
      "metadata": {
        "id": "ls2KuOSL_8Am"
      },
      "execution_count": null,
      "outputs": []
    },
    {
      "cell_type": "code",
      "source": [
        "txt_list=[]\n",
        "length=c.shape[0]\n",
        "for i in range(0,length):\n",
        "  txt=' '.join([word for word in c.iloc[i]])\n",
        "  txt_list.append(txt)"
      ],
      "metadata": {
        "id": "L8jCpnEg__im"
      },
      "execution_count": null,
      "outputs": []
    },
    {
      "cell_type": "code",
      "source": [
        "#tokenization of text\n",
        "tokenize_text=[]\n",
        "for i in txt_list:\n",
        "\n",
        "  tokenize_text+=(word_tokenize(i))"
      ],
      "metadata": {
        "id": "P4VybfcZACGg"
      },
      "execution_count": null,
      "outputs": []
    },
    {
      "cell_type": "code",
      "source": [
        "print(tokenize_text)"
      ],
      "metadata": {
        "colab": {
          "base_uri": "https://localhost:8080/"
        },
        "id": "72ya9cnDAHaj",
        "outputId": "eb97b056-da78-4dee-98a5-420fef07fcd1"
      },
      "execution_count": null,
      "outputs": [
        {
          "output_type": "stream",
          "name": "stdout",
          "text": [
            "['This', 'is', 'a', 'sample', 'text', 'It', 'contains', 'multiple', 'sentences', 'Another', 'sentence', 'here']\n"
          ]
        }
      ]
    },
    {
      "cell_type": "code",
      "source": [
        "len(tokenize_text)"
      ],
      "metadata": {
        "colab": {
          "base_uri": "https://localhost:8080/"
        },
        "id": "JEIT_WHYAUT3",
        "outputId": "58f05604-a6f6-4f6d-dd92-a026c73052f8"
      },
      "execution_count": null,
      "outputs": [
        {
          "output_type": "execute_result",
          "data": {
            "text/plain": [
              "12"
            ]
          },
          "metadata": {},
          "execution_count": 159
        }
      ]
    },
    {
      "cell_type": "markdown",
      "source": [
        "**POSITIVE SCORE**"
      ],
      "metadata": {
        "id": "6dNXMceuAoDZ"
      }
    },
    {
      "cell_type": "code",
      "source": [
        "positive_score=0\n",
        "for i in tokenize_text:\n",
        "  if(i.lower() in post):\n",
        "    positive_score+=1\n",
        "print('postive score=', positive_score)"
      ],
      "metadata": {
        "colab": {
          "base_uri": "https://localhost:8080/"
        },
        "id": "1U5hP7FgAbQO",
        "outputId": "e30c382f-1085-4b05-b070-5d546401c6ab"
      },
      "execution_count": null,
      "outputs": [
        {
          "output_type": "stream",
          "name": "stdout",
          "text": [
            "postive score= 0\n"
          ]
        }
      ]
    },
    {
      "cell_type": "markdown",
      "source": [
        "**NEGATIVE SCORE**"
      ],
      "metadata": {
        "id": "sTBh39jSA2Pb"
      }
    },
    {
      "cell_type": "code",
      "source": [
        "negative_score=0\n",
        "for i in tokenize_text:\n",
        "  if(i.lower() in neg):\n",
        "    negative_score+=1\n",
        "print('negative score=', negative_score)"
      ],
      "metadata": {
        "colab": {
          "base_uri": "https://localhost:8080/"
        },
        "id": "ZloCw2pTAftE",
        "outputId": "f8af4ec3-40ea-4d1a-a691-29a9db587834"
      },
      "execution_count": null,
      "outputs": [
        {
          "output_type": "stream",
          "name": "stdout",
          "text": [
            "negative score= 0\n"
          ]
        }
      ]
    },
    {
      "cell_type": "markdown",
      "source": [
        "**POLARITY SCORE**"
      ],
      "metadata": {
        "id": "uBSnRJT5BCf6"
      }
    },
    {
      "cell_type": "code",
      "source": [
        "#Polarity Score = (Positive Score – Negative Score)/ ((Positive Score + Negative Score) + 0.000001)\n",
        "Polarity_Score=(positive_score-negative_score)/((positive_score+negative_score)+0.000001)\n",
        "print('polarity_score=', Polarity_Score)"
      ],
      "metadata": {
        "colab": {
          "base_uri": "https://localhost:8080/"
        },
        "id": "YWvf58JjBDZ0",
        "outputId": "6df6143a-ac36-4307-ef40-1d209f927281"
      },
      "execution_count": null,
      "outputs": [
        {
          "output_type": "stream",
          "name": "stdout",
          "text": [
            "polarity_score= 0.0\n"
          ]
        }
      ]
    },
    {
      "cell_type": "markdown",
      "source": [
        "**SUBJECTIVITY SCORE**"
      ],
      "metadata": {
        "id": "wSo37yZrBLe0"
      }
    },
    {
      "cell_type": "code",
      "source": [
        "#Subjectivity Score = (Positive Score + Negative Score)/ ((Total Words after cleaning) + 0.000001)\n",
        "subjectiivity_score=(positive_score-negative_score)/((len(tokenize_text))+ 0.000001)\n",
        "print('subjectivity_score',subjectiivity_score)"
      ],
      "metadata": {
        "colab": {
          "base_uri": "https://localhost:8080/"
        },
        "id": "ZEWinQDZBNF2",
        "outputId": "13aa7151-1513-4fb8-9d3a-b945dc4456e8"
      },
      "execution_count": null,
      "outputs": [
        {
          "output_type": "stream",
          "name": "stdout",
          "text": [
            "subjectivity_score 0.0\n"
          ]
        }
      ]
    },
    {
      "cell_type": "markdown",
      "source": [
        "**AVG SENTENCE LENGTH**"
      ],
      "metadata": {
        "id": "HkU0vfo4BLNU"
      }
    },
    {
      "cell_type": "code",
      "source": [
        "length=c.shape[0]\n",
        "avg_length=[]\n",
        "for i in range(0,length):\n",
        "  avg_length.append(len(c['abc'].iloc[i]))\n",
        "avg_senetence_length=sum(avg_length)/len(avg_length)\n",
        "print('avg sentence length=', avg_senetence_length)"
      ],
      "metadata": {
        "colab": {
          "base_uri": "https://localhost:8080/"
        },
        "id": "bjzLDTeEBGKz",
        "outputId": "e4f12e8b-e82d-4840-cedc-db1be25910b0"
      },
      "execution_count": null,
      "outputs": [
        {
          "output_type": "stream",
          "name": "stdout",
          "text": [
            "avg sentence length= 24.0\n"
          ]
        }
      ]
    },
    {
      "cell_type": "markdown",
      "source": [
        "**PERCENTAGE OF COMPLEX WORDS**"
      ],
      "metadata": {
        "id": "gFnjVcMMBf_2"
      }
    },
    {
      "cell_type": "code",
      "source": [
        "vowels=['a','e','i','o','u']\n",
        "import re\n",
        "count=0\n",
        "complex_Word_Count=0\n",
        "for i in tokenize_text:\n",
        "  x=re.compile('[es|ed]$')\n",
        "  if x.match(i.lower()):\n",
        "   count+=0\n",
        "  else:\n",
        "    for j in i:\n",
        "      if(j.lower() in vowels ):\n",
        "        count+=1\n",
        "  if(count>2):\n",
        "   complex_Word_Count+=1\n",
        "  count=0"
      ],
      "metadata": {
        "id": "pR9KDaV6BaJ0"
      },
      "execution_count": null,
      "outputs": []
    },
    {
      "cell_type": "code",
      "source": [
        "Percentage_of_Complex_words=complex_Word_Count/len(tokenize_text)\n",
        "print('percentag of complex words= ',Percentage_of_Complex_words)"
      ],
      "metadata": {
        "colab": {
          "base_uri": "https://localhost:8080/"
        },
        "id": "RoSOiKt7BlzT",
        "outputId": "cf56ebcf-7626-47df-a185-48055f92f770"
      },
      "execution_count": null,
      "outputs": [
        {
          "output_type": "stream",
          "name": "stdout",
          "text": [
            "percentag of complex words=  0.4166666666666667\n"
          ]
        }
      ]
    },
    {
      "cell_type": "markdown",
      "source": [
        "**FOG INDEX**"
      ],
      "metadata": {
        "id": "adUEuc6dBviK"
      }
    },
    {
      "cell_type": "code",
      "source": [
        "#Fog Index = 0.4 * (Average Sentence Length + Percentage of Complex words)\n",
        "Fog_Index = 0.4 * (avg_senetence_length + Percentage_of_Complex_words)\n",
        "print('fog index= ',Fog_Index )"
      ],
      "metadata": {
        "colab": {
          "base_uri": "https://localhost:8080/"
        },
        "id": "31EHg8ZTBrH8",
        "outputId": "ab8be655-831e-4ac0-e629-b1a55053a8c1"
      },
      "execution_count": null,
      "outputs": [
        {
          "output_type": "stream",
          "name": "stdout",
          "text": [
            "fog index=  9.766666666666667\n"
          ]
        }
      ]
    },
    {
      "cell_type": "markdown",
      "source": [
        "**AVG NUMBER OF WORDS PER SENTENCE**"
      ],
      "metadata": {
        "id": "1qruyWqnB6iP"
      }
    },
    {
      "cell_type": "code",
      "source": [
        "length=c.shape[0]\n",
        "avg_length=[]\n",
        "for i in range(0,length):\n",
        "  a=[word.split( ) for word in c.iloc[i]]\n",
        "  avg_length.append(len(a[0]))\n",
        "  a=0\n",
        "#avg\n",
        "avg_no_of_words_per_sentence=sum(avg_length)/length\n",
        "print(\"avg no of words per sentence= \",avg_no_of_words_per_sentence)"
      ],
      "metadata": {
        "colab": {
          "base_uri": "https://localhost:8080/"
        },
        "id": "GPXnkhSaB8MS",
        "outputId": "26b9d24a-13cd-446d-c0d5-a2776a51a942"
      },
      "execution_count": null,
      "outputs": [
        {
          "output_type": "stream",
          "name": "stdout",
          "text": [
            "avg no of words per sentence=  4.0\n"
          ]
        }
      ]
    },
    {
      "cell_type": "markdown",
      "source": [
        "**COMPLEX WORD COUNT**"
      ],
      "metadata": {
        "id": "RLOs17xEB6d5"
      }
    },
    {
      "cell_type": "code",
      "source": [
        "vowels=['a','e','i','o','u']\n",
        "import re\n",
        "count=0\n",
        "complex_Word_Count=0\n",
        "for i in tokenize_text:\n",
        "  x=re.compile('[es|ed]$')\n",
        "  if x.match(i.lower()):\n",
        "   count+=0\n",
        "  else:\n",
        "    for j in i:\n",
        "      if(j.lower() in vowels ):\n",
        "        count+=1\n",
        "  if(count>2):\n",
        "   complex_Word_Count+=1\n",
        "  count=0\n",
        "print('complex words count=',  complex_Word_Count)"
      ],
      "metadata": {
        "colab": {
          "base_uri": "https://localhost:8080/"
        },
        "id": "RpVDzCjSB0bV",
        "outputId": "7adf3000-a06a-4d22-d7b0-972c4f43bea7"
      },
      "execution_count": null,
      "outputs": [
        {
          "output_type": "stream",
          "name": "stdout",
          "text": [
            "complex words count= 5\n"
          ]
        }
      ]
    },
    {
      "cell_type": "markdown",
      "source": [
        "**WORD COUNT**"
      ],
      "metadata": {
        "id": "5RPR1w7gCPYj"
      }
    },
    {
      "cell_type": "code",
      "source": [
        "word_count=len(tokenize_text)\n",
        "print('word count= ', word_count)"
      ],
      "metadata": {
        "colab": {
          "base_uri": "https://localhost:8080/"
        },
        "id": "3KiLyU5xCQan",
        "outputId": "f0f7980b-189c-47e4-b16f-bebb28222301"
      },
      "execution_count": null,
      "outputs": [
        {
          "output_type": "stream",
          "name": "stdout",
          "text": [
            "word count=  12\n"
          ]
        }
      ]
    },
    {
      "cell_type": "markdown",
      "source": [
        "**SYLLABLE PER WORD**"
      ],
      "metadata": {
        "id": "qIOG4iVdCb_x"
      }
    },
    {
      "cell_type": "code",
      "source": [
        "vowels=['a','e','i','o','u']\n",
        "import re\n",
        "count=0\n",
        "for i in tokenize_text:\n",
        "  x=re.compile('[es|ed]$')\n",
        "  if x.match(i.lower()):\n",
        "   count+=0\n",
        "  else:\n",
        "    for j in i:\n",
        "      if(j.lower() in vowels ):\n",
        "        count+=1\n",
        "syllable_count=count\n",
        "print('syllable_per_word= ',syllable_count)"
      ],
      "metadata": {
        "colab": {
          "base_uri": "https://localhost:8080/"
        },
        "id": "7EY3TcsnCV-w",
        "outputId": "1f6ad134-b6b4-4792-db0a-c2abb5d21da8"
      },
      "execution_count": null,
      "outputs": [
        {
          "output_type": "stream",
          "name": "stdout",
          "text": [
            "syllable_per_word=  24\n"
          ]
        }
      ]
    },
    {
      "cell_type": "markdown",
      "source": [
        "**PERSONAL PRONOUNS**"
      ],
      "metadata": {
        "id": "PeHmuNL1CmTg"
      }
    },
    {
      "cell_type": "code",
      "source": [
        "pronouns=['i','we','my','ours','us' ]\n",
        "import re\n",
        "count=0\n",
        "for i in tokenize_text:\n",
        "  if i.lower() in pronouns:\n",
        "   count+=1\n",
        "personal_pronouns=count\n",
        "print('personal pronouns= ',personal_pronouns )"
      ],
      "metadata": {
        "colab": {
          "base_uri": "https://localhost:8080/"
        },
        "id": "4V4FytEjChVC",
        "outputId": "dac8cd43-87db-44c0-82d1-e2ee458cc996"
      },
      "execution_count": null,
      "outputs": [
        {
          "output_type": "stream",
          "name": "stdout",
          "text": [
            "personal pronouns=  0\n"
          ]
        }
      ]
    },
    {
      "cell_type": "markdown",
      "source": [
        "**AVG WORD LENGTH**"
      ],
      "metadata": {
        "id": "wjlu1ePDCvSO"
      }
    },
    {
      "cell_type": "code",
      "source": [
        "count=0\n",
        "for i in tokenize_text:\n",
        "  for j in i:\n",
        "    count+=1\n",
        "avg_word_length=count/len(tokenize_text)\n",
        "print('avg word= ', avg_word_length)"
      ],
      "metadata": {
        "colab": {
          "base_uri": "https://localhost:8080/"
        },
        "id": "0m1pKeUPCqjB",
        "outputId": "8704a9f1-ba26-48a6-969a-1f05453a39f1"
      },
      "execution_count": null,
      "outputs": [
        {
          "output_type": "stream",
          "name": "stdout",
          "text": [
            "avg word=  5.25\n"
          ]
        }
      ]
    },
    {
      "cell_type": "code",
      "source": [
        "data={'positive_score':positive_score,'negative_score':negative_score,'Polarity_Score':Polarity_Score,'subjectiivity_score':subjectiivity_score,'avg_senetence_length':avg_senetence_length,'Percentage_of_Complex_words':Percentage_of_Complex_words,'Fog_Index':Fog_Index,'avg_no_of_words_per_sentence':avg_no_of_words_per_sentence,'complex_Word_Count':complex_Word_Count,'word_count':word_count,'syllable_count':syllable_count,'personal_pronouns':personal_pronouns,'avg_word_length':avg_word_length}"
      ],
      "metadata": {
        "id": "zDWwNKs_Cy5p"
      },
      "execution_count": null,
      "outputs": []
    },
    {
      "cell_type": "code",
      "source": [
        "output=pd.DataFrame()\n",
        "output=output.append(data,ignore_index=True)\n",
        "#output.columns=['positive_score','negative_score','Polarity_Score','subjectiivity_score','avg_senetence_length','Percentage_of_Complex_words','Fog_Index','avg_no_of_words_per_sentence','complex_Word_Count','word_count','syllable_count','personal_pronouns','avg_word_length']\n",
        "output"
      ],
      "metadata": {
        "colab": {
          "base_uri": "https://localhost:8080/",
          "height": 135
        },
        "id": "3MSULaFZC70b",
        "outputId": "54f2020f-55f7-4bbb-fbab-968e407036a2"
      },
      "execution_count": null,
      "outputs": [
        {
          "output_type": "stream",
          "name": "stderr",
          "text": [
            "<ipython-input-175-6e3643a28812>:2: FutureWarning: The frame.append method is deprecated and will be removed from pandas in a future version. Use pandas.concat instead.\n",
            "  output=output.append(data,ignore_index=True)\n"
          ]
        },
        {
          "output_type": "execute_result",
          "data": {
            "text/plain": [
              "   positive_score  negative_score  Polarity_Score  subjectiivity_score  \\\n",
              "0             0.0             0.0             0.0                  0.0   \n",
              "\n",
              "   avg_senetence_length  Percentage_of_Complex_words  Fog_Index  \\\n",
              "0                  24.0                     0.416667   9.766667   \n",
              "\n",
              "   avg_no_of_words_per_sentence  complex_Word_Count  word_count  \\\n",
              "0                           4.0                 5.0        12.0   \n",
              "\n",
              "   syllable_count  personal_pronouns  avg_word_length  \n",
              "0            24.0                0.0             5.25  "
            ],
            "text/html": [
              "\n",
              "  <div id=\"df-e659141b-2b79-48e3-b71e-b244d1822fab\" class=\"colab-df-container\">\n",
              "    <div>\n",
              "<style scoped>\n",
              "    .dataframe tbody tr th:only-of-type {\n",
              "        vertical-align: middle;\n",
              "    }\n",
              "\n",
              "    .dataframe tbody tr th {\n",
              "        vertical-align: top;\n",
              "    }\n",
              "\n",
              "    .dataframe thead th {\n",
              "        text-align: right;\n",
              "    }\n",
              "</style>\n",
              "<table border=\"1\" class=\"dataframe\">\n",
              "  <thead>\n",
              "    <tr style=\"text-align: right;\">\n",
              "      <th></th>\n",
              "      <th>positive_score</th>\n",
              "      <th>negative_score</th>\n",
              "      <th>Polarity_Score</th>\n",
              "      <th>subjectiivity_score</th>\n",
              "      <th>avg_senetence_length</th>\n",
              "      <th>Percentage_of_Complex_words</th>\n",
              "      <th>Fog_Index</th>\n",
              "      <th>avg_no_of_words_per_sentence</th>\n",
              "      <th>complex_Word_Count</th>\n",
              "      <th>word_count</th>\n",
              "      <th>syllable_count</th>\n",
              "      <th>personal_pronouns</th>\n",
              "      <th>avg_word_length</th>\n",
              "    </tr>\n",
              "  </thead>\n",
              "  <tbody>\n",
              "    <tr>\n",
              "      <th>0</th>\n",
              "      <td>0.0</td>\n",
              "      <td>0.0</td>\n",
              "      <td>0.0</td>\n",
              "      <td>0.0</td>\n",
              "      <td>24.0</td>\n",
              "      <td>0.416667</td>\n",
              "      <td>9.766667</td>\n",
              "      <td>4.0</td>\n",
              "      <td>5.0</td>\n",
              "      <td>12.0</td>\n",
              "      <td>24.0</td>\n",
              "      <td>0.0</td>\n",
              "      <td>5.25</td>\n",
              "    </tr>\n",
              "  </tbody>\n",
              "</table>\n",
              "</div>\n",
              "    <div class=\"colab-df-buttons\">\n",
              "\n",
              "  <div class=\"colab-df-container\">\n",
              "    <button class=\"colab-df-convert\" onclick=\"convertToInteractive('df-e659141b-2b79-48e3-b71e-b244d1822fab')\"\n",
              "            title=\"Convert this dataframe to an interactive table.\"\n",
              "            style=\"display:none;\">\n",
              "\n",
              "  <svg xmlns=\"http://www.w3.org/2000/svg\" height=\"24px\" viewBox=\"0 -960 960 960\">\n",
              "    <path d=\"M120-120v-720h720v720H120Zm60-500h600v-160H180v160Zm220 220h160v-160H400v160Zm0 220h160v-160H400v160ZM180-400h160v-160H180v160Zm440 0h160v-160H620v160ZM180-180h160v-160H180v160Zm440 0h160v-160H620v160Z\"/>\n",
              "  </svg>\n",
              "    </button>\n",
              "\n",
              "  <style>\n",
              "    .colab-df-container {\n",
              "      display:flex;\n",
              "      gap: 12px;\n",
              "    }\n",
              "\n",
              "    .colab-df-convert {\n",
              "      background-color: #E8F0FE;\n",
              "      border: none;\n",
              "      border-radius: 50%;\n",
              "      cursor: pointer;\n",
              "      display: none;\n",
              "      fill: #1967D2;\n",
              "      height: 32px;\n",
              "      padding: 0 0 0 0;\n",
              "      width: 32px;\n",
              "    }\n",
              "\n",
              "    .colab-df-convert:hover {\n",
              "      background-color: #E2EBFA;\n",
              "      box-shadow: 0px 1px 2px rgba(60, 64, 67, 0.3), 0px 1px 3px 1px rgba(60, 64, 67, 0.15);\n",
              "      fill: #174EA6;\n",
              "    }\n",
              "\n",
              "    .colab-df-buttons div {\n",
              "      margin-bottom: 4px;\n",
              "    }\n",
              "\n",
              "    [theme=dark] .colab-df-convert {\n",
              "      background-color: #3B4455;\n",
              "      fill: #D2E3FC;\n",
              "    }\n",
              "\n",
              "    [theme=dark] .colab-df-convert:hover {\n",
              "      background-color: #434B5C;\n",
              "      box-shadow: 0px 1px 3px 1px rgba(0, 0, 0, 0.15);\n",
              "      filter: drop-shadow(0px 1px 2px rgba(0, 0, 0, 0.3));\n",
              "      fill: #FFFFFF;\n",
              "    }\n",
              "  </style>\n",
              "\n",
              "    <script>\n",
              "      const buttonEl =\n",
              "        document.querySelector('#df-e659141b-2b79-48e3-b71e-b244d1822fab button.colab-df-convert');\n",
              "      buttonEl.style.display =\n",
              "        google.colab.kernel.accessAllowed ? 'block' : 'none';\n",
              "\n",
              "      async function convertToInteractive(key) {\n",
              "        const element = document.querySelector('#df-e659141b-2b79-48e3-b71e-b244d1822fab');\n",
              "        const dataTable =\n",
              "          await google.colab.kernel.invokeFunction('convertToInteractive',\n",
              "                                                    [key], {});\n",
              "        if (!dataTable) return;\n",
              "\n",
              "        const docLinkHtml = 'Like what you see? Visit the ' +\n",
              "          '<a target=\"_blank\" href=https://colab.research.google.com/notebooks/data_table.ipynb>data table notebook</a>'\n",
              "          + ' to learn more about interactive tables.';\n",
              "        element.innerHTML = '';\n",
              "        dataTable['output_type'] = 'display_data';\n",
              "        await google.colab.output.renderOutput(dataTable, element);\n",
              "        const docLink = document.createElement('div');\n",
              "        docLink.innerHTML = docLinkHtml;\n",
              "        element.appendChild(docLink);\n",
              "      }\n",
              "    </script>\n",
              "  </div>\n",
              "\n",
              "    </div>\n",
              "  </div>\n"
            ]
          },
          "metadata": {},
          "execution_count": 175
        }
      ]
    },
    {
      "cell_type": "markdown",
      "source": [
        "**download the output from input xls**"
      ],
      "metadata": {
        "id": "87ZXKHEuyKaQ"
      }
    },
    {
      "cell_type": "code",
      "source": [
        "with open('/content/drive/MyDrive/20211030 Test Assignment/Output Data Structure.xlsx', 'a') as f:#creating text file\n",
        "  output.to_csv(f, index=False, header=False)\n",
        "files.download('/content/drive/MyDrive/20211030 Test Assignment/Output Data Structure.xlsx')"
      ],
      "metadata": {
        "colab": {
          "base_uri": "https://localhost:8080/",
          "height": 17
        },
        "id": "PFi5ICe9DY5r",
        "outputId": "5e19039a-f811-4c0e-d84a-4c1916925b8e"
      },
      "execution_count": null,
      "outputs": [
        {
          "output_type": "display_data",
          "data": {
            "text/plain": [
              "<IPython.core.display.Javascript object>"
            ],
            "application/javascript": [
              "\n",
              "    async function download(id, filename, size) {\n",
              "      if (!google.colab.kernel.accessAllowed) {\n",
              "        return;\n",
              "      }\n",
              "      const div = document.createElement('div');\n",
              "      const label = document.createElement('label');\n",
              "      label.textContent = `Downloading \"${filename}\": `;\n",
              "      div.appendChild(label);\n",
              "      const progress = document.createElement('progress');\n",
              "      progress.max = size;\n",
              "      div.appendChild(progress);\n",
              "      document.body.appendChild(div);\n",
              "\n",
              "      const buffers = [];\n",
              "      let downloaded = 0;\n",
              "\n",
              "      const channel = await google.colab.kernel.comms.open(id);\n",
              "      // Send a message to notify the kernel that we're ready.\n",
              "      channel.send({})\n",
              "\n",
              "      for await (const message of channel.messages) {\n",
              "        // Send a message to notify the kernel that we're ready.\n",
              "        channel.send({})\n",
              "        if (message.buffers) {\n",
              "          for (const buffer of message.buffers) {\n",
              "            buffers.push(buffer);\n",
              "            downloaded += buffer.byteLength;\n",
              "            progress.value = downloaded;\n",
              "          }\n",
              "        }\n",
              "      }\n",
              "      const blob = new Blob(buffers, {type: 'application/binary'});\n",
              "      const a = document.createElement('a');\n",
              "      a.href = window.URL.createObjectURL(blob);\n",
              "      a.download = filename;\n",
              "      div.appendChild(a);\n",
              "      a.click();\n",
              "      div.remove();\n",
              "    }\n",
              "  "
            ]
          },
          "metadata": {}
        },
        {
          "output_type": "display_data",
          "data": {
            "text/plain": [
              "<IPython.core.display.Javascript object>"
            ],
            "application/javascript": [
              "download(\"download_bc1779a5-2b27-451b-a931-cc4e9d8ee85e\", \"Output Data Structure.xlsx\", 16138)"
            ]
          },
          "metadata": {}
        }
      ]
    },
    {
      "cell_type": "code",
      "source": [],
      "metadata": {
        "id": "-22ZNd2mtVWQ"
      },
      "execution_count": null,
      "outputs": []
    }
  ],
  "metadata": {
    "colab": {
      "provenance": [],
      "authorship_tag": "ABX9TyNwBF7StRDUuClnY+MwtIz6",
      "include_colab_link": true
    },
    "kernelspec": {
      "display_name": "Python 3",
      "name": "python3"
    },
    "language_info": {
      "name": "python"
    }
  },
  "nbformat": 4,
  "nbformat_minor": 0
}